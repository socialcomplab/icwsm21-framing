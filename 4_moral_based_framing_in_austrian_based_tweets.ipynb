{
 "cells": [
  {
   "cell_type": "markdown",
   "metadata": {},
   "source": [
    "# MF Frames\n",
    "\n",
    "Extract frames using the moral foundation theory as basis"
   ]
  },
  {
   "cell_type": "code",
   "execution_count": 6,
   "metadata": {},
   "outputs": [],
   "source": [
    "import pandas as pd\n",
    "from collections import Counter\n",
    "import seaborn as sns\n",
    "import umap\n",
    "import matplotlib.pyplot as plt\n",
    "import texthero as hero\n",
    "import polarice\n",
    "import polarice.preprocessing\n",
    "from gensim.models import KeyedVectors, TranslationMatrix\n",
    "import numpy as np\n",
    "\n",
    "np.random.seed(42)\n",
    "\n",
    "data_dir = \"./data/exp2/\"\n",
    "limit_top_w2v = 500_000  # 100k misses some aspects of translation matrix"
   ]
  },
  {
   "cell_type": "code",
   "execution_count": 7,
   "metadata": {},
   "outputs": [
    {
     "name": "stderr",
     "output_type": "stream",
     "text": [
      "/home/mreiterhaas/miniconda3/envs/polarice/lib/python3.8/site-packages/IPython/core/interactiveshell.py:3145: DtypeWarning: Columns (29) have mixed types.Specify dtype option on import or set low_memory=False.\n",
      "  has_raised = await self.run_ast_nodes(code_ast.body, cell_name,\n"
     ]
    },
    {
     "name": "stdout",
     "output_type": "stream",
     "text": [
      "<class 'pandas.core.frame.DataFrame'>\n",
      "Int64Index: 22205 entries, 1285876165014691840 to 1243175087366438913\n",
      "Data columns (total 37 columns):\n",
      " #   Column                     Non-Null Count  Dtype  \n",
      "---  ------                     --------------  -----  \n",
      " 0   created_at                 22205 non-null  object \n",
      " 1   id_str                     22205 non-null  int64  \n",
      " 2   text                       22205 non-null  object \n",
      " 3   truncated                  22205 non-null  bool   \n",
      " 4   entities                   22205 non-null  object \n",
      " 5   source                     22205 non-null  object \n",
      " 6   in_reply_to_status_id      2397 non-null   float64\n",
      " 7   in_reply_to_status_id_str  2397 non-null   float64\n",
      " 8   in_reply_to_user_id        2583 non-null   float64\n",
      " 9   in_reply_to_user_id_str    2583 non-null   float64\n",
      " 10  in_reply_to_screen_name    2583 non-null   object \n",
      " 11  user                       22205 non-null  object \n",
      " 12  geo                        21 non-null     object \n",
      " 13  coordinates                21 non-null     object \n",
      " 14  place                      260 non-null    object \n",
      " 15  contributors               0 non-null      float64\n",
      " 16  retweeted_status           13095 non-null  object \n",
      " 17  is_quote_status            22205 non-null  bool   \n",
      " 18  retweet_count              22205 non-null  int64  \n",
      " 19  favorite_count             22205 non-null  int64  \n",
      " 20  favorited                  22205 non-null  bool   \n",
      " 21  retweeted                  22205 non-null  bool   \n",
      " 22  lang                       22205 non-null  object \n",
      " 23  extended_entities          1073 non-null   object \n",
      " 24  possibly_sensitive         7343 non-null   float64\n",
      " 25  quoted_status_id           1605 non-null   float64\n",
      " 26  quoted_status_id_str       1605 non-null   float64\n",
      " 27  quoted_status              710 non-null    object \n",
      " 28  withheld_in_countries      2 non-null      object \n",
      " 29  withheld_scope             0 non-null      float64\n",
      " 30  withheld_copyright         0 non-null      float64\n",
      " 31  user_id                    22205 non-null  int64  \n",
      " 32  follower_id                22205 non-null  int64  \n",
      " 33  followee_id                22205 non-null  int64  \n",
      " 34  handle                     22205 non-null  object \n",
      " 35  userid                     22205 non-null  int64  \n",
      " 36  stance                     22205 non-null  object \n",
      "dtypes: bool(4), float64(10), int64(7), object(16)\n",
      "memory usage: 5.8+ MB\n"
     ]
    }
   ],
   "source": [
    "labelled_tweets = pd.read_csv(data_dir + \"follower_tweets_german_corona_labelled.csv\", index_col=0, lineterminator=\"\\n\")\n",
    "labelled_tweets.info()"
   ]
  },
  {
   "cell_type": "code",
   "execution_count": 8,
   "metadata": {},
   "outputs": [
    {
     "data": {
      "text/plain": [
       "sebastiankurz    17230\n",
       "WKogler           2090\n",
       "rendiwagner       1164\n",
       "BMeinl             901\n",
       "norbertghofer      820\n",
       "Name: handle, dtype: int64"
      ]
     },
     "execution_count": 8,
     "metadata": {},
     "output_type": "execute_result"
    }
   ],
   "source": [
    "labelled_tweets[\"handle\"].value_counts()"
   ]
  },
  {
   "cell_type": "code",
   "execution_count": 3,
   "metadata": {},
   "outputs": [],
   "source": [
    "german_tweet_pipeline = polarice.preprocessing.GERMAN_TWEET_PIPELINE\n",
    "labelled_tweets[\"cleaned\"] = labelled_tweets[\"text\"].pipe(hero.clean, pipeline=german_tweet_pipeline)"
   ]
  },
  {
   "cell_type": "code",
   "execution_count": 4,
   "metadata": {},
   "outputs": [
    {
     "data": {
      "text/plain": [
       "{'care/harm': <__main__.FrameAxis at 0x7f1c9a20e100>,\n",
       " 'fairness/cheating': <__main__.FrameAxis at 0x7f1cd854c4c0>,\n",
       " 'loyalty/betrayal': <__main__.FrameAxis at 0x7f1c9a256fd0>,\n",
       " 'authority/subversion': <__main__.FrameAxis at 0x7f1c9a256f70>,\n",
       " 'sanctity/degradation': <__main__.FrameAxis at 0x7f1c9a20eb20>}"
      ]
     },
     "execution_count": 4,
     "metadata": {},
     "output_type": "execute_result"
    }
   ],
   "source": [
    "# TODO: remove after it is part of lib and load lib in\n",
    "%run frame_axis.py\n",
    "fs = FrameSystem.load(\"moral.pkl\")\n",
    "fs.frame_axes"
   ]
  },
  {
   "cell_type": "code",
   "execution_count": 5,
   "metadata": {},
   "outputs": [],
   "source": [
    "## From https://fasttext.cc/docs/en/crawl-vectors.html\n",
    "model_en = KeyedVectors.load_word2vec_format(\"cc.en.300.vec.gz\", binary=False, limit=limit_top_w2v)\n",
    "model_de = KeyedVectors.load_word2vec_format(\"cc.de.300.vec.gz\", binary=False, limit=limit_top_w2v)"
   ]
  },
  {
   "cell_type": "code",
   "execution_count": 6,
   "metadata": {},
   "outputs": [],
   "source": [
    "# Example pairs from: https://www.researchgate.net/figure/List-of-German-Words-With-Positive-and-Negative-Valence-and-Their-English-Translations_tbl1_323648179\n",
    "word_pairs = [\n",
    "#     positive valence\n",
    "    (\"savior\", \"Retter\"),\n",
    "    (\"cheer\", \"Jubel\"),\n",
    "    (\"talent\", \"Talent\"),\n",
    "    (\"celebration\", \"Feier\"),\n",
    "    (\"party\", \"Party\"),\n",
    "    (\"profit\", \"Gewinn\"),\n",
    "    (\"humor\", \"Humor\"),\n",
    "    (\"hobby\", \"Hobby\"),\n",
    "    (\"journey\", \"Reise\"),\n",
    "    (\"joy\", \"Freude\"),\n",
    "#     negative valennce\n",
    "    (\"tyrant\", \"Tyrann\"),\n",
    "    (\"penalty\", \"Strafe\"),\n",
    "    (\"atrocity\", \"Greuel\"),\n",
    "    (\"grief\", \"Trauer\"),\n",
    "    (\"victim\", \"Opfer\"),\n",
    "#     (\"exhaust gas\", \"Abgas\"),\n",
    "    (\"fraud\", \"Betrug\"),\n",
    "    (\"plague\", \"Plage\"),\n",
    "    (\"arrest\", \"Arrest\"),\n",
    "    (\"command\", \"Befehl\"),\n",
    "]\n",
    "\n",
    "transmat = TranslationMatrix(source_lang_vec=model_en, target_lang_vec=model_de, word_pairs=word_pairs)"
   ]
  },
  {
   "cell_type": "markdown",
   "metadata": {},
   "source": [
    "# Test"
   ]
  },
  {
   "cell_type": "code",
   "execution_count": 7,
   "metadata": {},
   "outputs": [],
   "source": [
    "virtues = [\"care\", \"fairness\", \"loyalty\", \"authority\", \"sanctity\", \"liberty\", \"good\"]\n",
    "vices = [\"harm\", \"cheating\", \"betrayal\", \"subversion\", \"degradation\", \"oppression\", \"evil\"]"
   ]
  },
  {
   "cell_type": "code",
   "execution_count": 8,
   "metadata": {},
   "outputs": [
    {
     "data": {
      "text/plain": [
       "OrderedDict([('care',\n",
       "              ['Trauer', 'Verzweiflung', 'Hass', 'Schmerz', 'Schadenfreude']),\n",
       "             ('fairness',\n",
       "              ['Humor', 'Freude', 'Witz', 'Schadenfreude', 'Gewinn']),\n",
       "             ('loyalty',\n",
       "              ['Gewinn', 'Erfolg', 'Betrug', 'Verrat', 'Enthusiasmus']),\n",
       "             ('authority',\n",
       "              ['Befehl', 'Kommando', 'Arrest', 'Befehlen', 'Befehle']),\n",
       "             ('sanctity',\n",
       "              ['Freude', 'Feier', 'Ehre', 'Feierlichkeit', 'Freuden']),\n",
       "             ('liberty', ['Gewinn', 'Freude', 'Tyrann', 'Laune', 'Spaß']),\n",
       "             ('good',\n",
       "              ['Freude',\n",
       "               'Enthusiasmus',\n",
       "               'Begeisterung',\n",
       "               'Ehrgeiz',\n",
       "               'Gewinn'])])"
      ]
     },
     "execution_count": 8,
     "metadata": {},
     "output_type": "execute_result"
    }
   ],
   "source": [
    "virtue_trans = transmat.translate(virtues)\n",
    "virtue_trans"
   ]
  },
  {
   "cell_type": "code",
   "execution_count": 9,
   "metadata": {},
   "outputs": [
    {
     "data": {
      "text/plain": [
       "OrderedDict([('harm',\n",
       "              ['Gewinn', 'Schadenfreude', 'Freude', 'Strafe', 'Genugtuung']),\n",
       "             ('cheating',\n",
       "              ['Betrug', 'Erpressung', 'Betrugs', 'Betrügereien', 'Abzocke']),\n",
       "             ('betrayal',\n",
       "              ['Trauer',\n",
       "               'Verzweiflung',\n",
       "               'Traurigkeit',\n",
       "               'Grausamkeit',\n",
       "               'Angst']),\n",
       "             ('subversion', ['Humor', 'Witz', 'Tyrann', 'Verrat', 'Betrug']),\n",
       "             ('degradation',\n",
       "              ['Strafe', 'Greuel', 'Sünde', 'Verbrechen', 'Grausamkeit']),\n",
       "             ('oppression',\n",
       "              ['Tyrann', 'Grausamkeit', 'Bosheit', 'Tyrannen', 'Tyrannei']),\n",
       "             ('evil',\n",
       "              ['Tyrann', 'Tyrannen', 'Bosheit', 'Retter', 'Grausamkeit'])])"
      ]
     },
     "execution_count": 9,
     "metadata": {},
     "output_type": "execute_result"
    }
   ],
   "source": [
    "vice_trans = transmat.translate(vices, topn=5)\n",
    "vice_trans"
   ]
  },
  {
   "cell_type": "markdown",
   "metadata": {},
   "source": [
    "# Translate Frame Axis"
   ]
  },
  {
   "cell_type": "code",
   "execution_count": 10,
   "metadata": {},
   "outputs": [
    {
     "data": {
      "text/plain": [
       "{'care/harm': <__main__.FrameAxis at 0x7f1c9a256f40>,\n",
       " 'fairness/cheating': <__main__.FrameAxis at 0x7f1b9d956af0>,\n",
       " 'loyalty/betrayal': <__main__.FrameAxis at 0x7f1b9d956f70>,\n",
       " 'authority/subversion': <__main__.FrameAxis at 0x7f1b9d9564f0>,\n",
       " 'sanctity/degradation': <__main__.FrameAxis at 0x7f1b9d956a60>}"
      ]
     },
     "execution_count": 10,
     "metadata": {},
     "output_type": "execute_result"
    }
   ],
   "source": [
    "# TODO: remove after it is part of lib\n",
    "%run frame_axis.py\n",
    "fs = FrameSystem.load(\"moral.pkl\")\n",
    "fs.frame_axes"
   ]
  },
  {
   "cell_type": "code",
   "execution_count": 11,
   "metadata": {},
   "outputs": [
    {
     "data": {
      "text/plain": [
       "[('compassion', ['Trauer']),\n",
       " ('empathy', ['Humor']),\n",
       " ('kindness', ['Freude']),\n",
       " ('caring', ['Trauer']),\n",
       " ('generosity', ['Freude'])]"
      ]
     },
     "execution_count": 11,
     "metadata": {},
     "output_type": "execute_result"
    }
   ],
   "source": [
    "fs.frame_axes[\"care/harm\"].attach_model(model_en)\n",
    "fs.frame_axes[\"care/harm\"].compute()\n",
    "care_words = fs.frame_axes[\"care/harm\"].pos_words\n",
    "care_trans = transmat.translate(care_words, topn=1)\n",
    "list(care_trans.items())[:5]"
   ]
  },
  {
   "cell_type": "code",
   "execution_count": 12,
   "metadata": {},
   "outputs": [
    {
     "data": {
      "text/plain": [
       "{'Arrest',\n",
       " 'Befehl',\n",
       " 'Betrug',\n",
       " 'Feier',\n",
       " 'Freude',\n",
       " 'Gewinn',\n",
       " 'Grausamkeit',\n",
       " 'Hobby',\n",
       " 'Humor',\n",
       " 'Jubel',\n",
       " 'Mitleid',\n",
       " 'Opfer',\n",
       " 'Plage',\n",
       " 'Reise',\n",
       " 'Retter',\n",
       " 'Talent',\n",
       " 'Trauer',\n",
       " 'Tyrann'}"
      ]
     },
     "execution_count": 12,
     "metadata": {},
     "output_type": "execute_result"
    }
   ],
   "source": [
    "def translations_only(trans_dict):\n",
    "    trans_words = set()\n",
    "    for words in trans_dict.values():\n",
    "        trans_words.update(words)\n",
    "    return trans_words\n",
    "\n",
    "care_trans_words = translations_only(care_trans)\n",
    "care_trans_words"
   ]
  },
  {
   "cell_type": "code",
   "execution_count": 13,
   "metadata": {},
   "outputs": [
    {
     "name": "stdout",
     "output_type": "stream",
     "text": [
      "18\n"
     ]
    },
    {
     "data": {
      "text/plain": [
       "<__main__.FramePole at 0x7f1b9b6c5a30>"
      ]
     },
     "execution_count": 13,
     "metadata": {},
     "output_type": "execute_result"
    }
   ],
   "source": [
    "FramePole(\"care\", care_trans_words, model_de).compute()"
   ]
  },
  {
   "cell_type": "code",
   "execution_count": 14,
   "metadata": {},
   "outputs": [
    {
     "data": {
      "text/plain": [
       "<__main__.FrameSystem at 0x7f1b9b6c57f0>"
      ]
     },
     "execution_count": 14,
     "metadata": {},
     "output_type": "execute_result"
    }
   ],
   "source": [
    "def transform_frame_system(frame_system, model_old, model_new):\n",
    "    trans_axes = {}\n",
    "    for name, axis in frame_system.frame_axes.items():\n",
    "        axis.attach_model(model_old)\n",
    "        axis.compute()\n",
    "        pos_trans = translations_only(transmat.translate(axis.pos_words, topn=1))\n",
    "        neg_trans = translations_only(transmat.translate(axis.neg_words, topn=1))\n",
    "        fa = FrameAxis(name, pos_trans, neg_trans, \"model_new\", model_new)\n",
    "        trans_axes[name] = fa\n",
    "    return FrameSystem(trans_axes)\n",
    "\n",
    "fs_new = transform_frame_system(fs, model_en, model_de)\n",
    "fs_new"
   ]
  },
  {
   "cell_type": "code",
   "execution_count": 15,
   "metadata": {},
   "outputs": [
    {
     "data": {
      "text/plain": [
       "{'care/harm': 0.01851844748371204,\n",
       " 'fairness/cheating': -0.012293665373022027,\n",
       " 'loyalty/betrayal': 0.005927898520874667,\n",
       " 'authority/subversion': 0.01263637227598477,\n",
       " 'sanctity/degradation': -0.009240866734967561}"
      ]
     },
     "execution_count": 15,
     "metadata": {},
     "output_type": "execute_result"
    }
   ],
   "source": [
    "fs.compute_baseline_biases(labelled_tweets, \"cleaned\", model_de)"
   ]
  },
  {
   "cell_type": "code",
   "execution_count": null,
   "metadata": {},
   "outputs": [],
   "source": [
    "trans_df = fs.transform_df(labelled_tweets, \"cleaned\", model_de)\n",
    "trans_df  # output clear for privacy"
   ]
  },
  {
   "cell_type": "code",
   "execution_count": null,
   "metadata": {},
   "outputs": [],
   "source": []
  },
  {
   "cell_type": "markdown",
   "metadata": {},
   "source": [
    "# Analyze per Group"
   ]
  },
  {
   "cell_type": "code",
   "execution_count": 17,
   "metadata": {},
   "outputs": [],
   "source": [
    "bias_cols = [col for col in labelled_tweets if col.endswith(\"_bias\")]\n",
    "intensity_cols = [col for col in labelled_tweets if col.endswith(\"_inte\")]\n",
    "moral_cols = bias_cols + intensity_cols"
   ]
  },
  {
   "cell_type": "code",
   "execution_count": 18,
   "metadata": {},
   "outputs": [],
   "source": [
    "cm = sns.light_palette(\"green\", as_cmap=True)\n",
    "\n",
    "groups = labelled_tweets.groupby(\"handle\")[moral_cols]\n",
    "group_moral = groups.mean()"
   ]
  },
  {
   "cell_type": "code",
   "execution_count": 19,
   "metadata": {},
   "outputs": [
    {
     "name": "stdout",
     "output_type": "stream",
     "text": [
      "\\begin{tabular}{llrrrrr}\n",
      "\\toprule\n",
      "     & handle &  BMeinl &  WKogler &  norbertghofer &  rendiwagner &  sebastiankurz \\\\\n",
      "\\midrule\n",
      "\\multirow{5}{*}{Bias} & Care &   1.622 &    1.793 &          1.830 &        1.882 &          1.870 \\\\\n",
      "     & Fairness &  -1.150 &   -1.013 &         -1.204 &       -1.052 &         -1.273 \\\\\n",
      "     & Loyalty &   0.508 &    0.593 &          0.617 &        0.556 &          0.599 \\\\\n",
      "     & Authority &   1.193 &    1.252 &          1.308 &        1.333 &          1.262 \\\\\n",
      "     & Sanctity &  -1.003 &   -0.943 &         -0.740 &       -0.846 &         -0.932 \\\\\n",
      "\\cline{1-7}\n",
      "\\multirow{5}{*}{inte} & Care &   0.239 &    0.240 &          0.255 &        0.253 &          0.249 \\\\\n",
      "     & Fairness &   0.187 &    0.181 &          0.187 &        0.182 &          0.185 \\\\\n",
      "     & Loyalty &   0.166 &    0.166 &          0.178 &        0.167 &          0.171 \\\\\n",
      "     & Authority &   0.158 &    0.157 &          0.166 &        0.154 &          0.162 \\\\\n",
      "     & Sanctity &   0.188 &    0.189 &          0.182 &        0.189 &          0.186 \\\\\n",
      "\\bottomrule\n",
      "\\end{tabular}\n",
      "\n"
     ]
    }
   ],
   "source": [
    "latex_df = group_moral.transpose()\n",
    "latex_df.index = pd.MultiIndex.from_tuples(latex_df.index.str.split('_').tolist())\n",
    "latex_df = latex_df.swaplevel(0, 1, 0)\n",
    "latex_df = latex_df.rename(index={\n",
    "    \"care\": \"Care\",\n",
    "    \"fair\": \"Fairness\",\n",
    "    \"loya\": \"Loyalty\",\n",
    "    \"auth\": \"Authority\",\n",
    "    \"sanc\": \"Sanctity\",\n",
    "    \"bias\": \"Bias\",\n",
    "    \"intensity\": \"Intensity\"\n",
    "})\n",
    "latex_df = latex_df * 100  # for easier readability\n",
    "print(latex_df.to_latex(multirow=True, float_format=\"%.3f\"))"
   ]
  },
  {
   "cell_type": "code",
   "execution_count": 20,
   "metadata": {},
   "outputs": [
    {
     "data": {
      "text/html": [
       "<style  type=\"text/css\" >\n",
       "#T_ab87a634_3e08_11eb_aaa9_e41f13eb8183row0_col0,#T_ab87a634_3e08_11eb_aaa9_e41f13eb8183row1_col4,#T_ab87a634_3e08_11eb_aaa9_e41f13eb8183row2_col0,#T_ab87a634_3e08_11eb_aaa9_e41f13eb8183row3_col0,#T_ab87a634_3e08_11eb_aaa9_e41f13eb8183row4_col0,#T_ab87a634_3e08_11eb_aaa9_e41f13eb8183row5_col0,#T_ab87a634_3e08_11eb_aaa9_e41f13eb8183row6_col1,#T_ab87a634_3e08_11eb_aaa9_e41f13eb8183row7_col0,#T_ab87a634_3e08_11eb_aaa9_e41f13eb8183row8_col3,#T_ab87a634_3e08_11eb_aaa9_e41f13eb8183row9_col2{\n",
       "            background-color:  #e5ffe5;\n",
       "            color:  #000000;\n",
       "        }#T_ab87a634_3e08_11eb_aaa9_e41f13eb8183row0_col1{\n",
       "            background-color:  #4eab4e;\n",
       "            color:  #000000;\n",
       "        }#T_ab87a634_3e08_11eb_aaa9_e41f13eb8183row0_col2{\n",
       "            background-color:  #2d992d;\n",
       "            color:  #000000;\n",
       "        }#T_ab87a634_3e08_11eb_aaa9_e41f13eb8183row0_col3,#T_ab87a634_3e08_11eb_aaa9_e41f13eb8183row1_col1,#T_ab87a634_3e08_11eb_aaa9_e41f13eb8183row2_col2,#T_ab87a634_3e08_11eb_aaa9_e41f13eb8183row3_col3,#T_ab87a634_3e08_11eb_aaa9_e41f13eb8183row4_col2,#T_ab87a634_3e08_11eb_aaa9_e41f13eb8183row5_col2,#T_ab87a634_3e08_11eb_aaa9_e41f13eb8183row6_col2,#T_ab87a634_3e08_11eb_aaa9_e41f13eb8183row7_col2,#T_ab87a634_3e08_11eb_aaa9_e41f13eb8183row8_col2,#T_ab87a634_3e08_11eb_aaa9_e41f13eb8183row9_col3{\n",
       "            background-color:  #008000;\n",
       "            color:  #f1f1f1;\n",
       "        }#T_ab87a634_3e08_11eb_aaa9_e41f13eb8183row0_col4{\n",
       "            background-color:  #0a850a;\n",
       "            color:  #f1f1f1;\n",
       "        }#T_ab87a634_3e08_11eb_aaa9_e41f13eb8183row1_col0{\n",
       "            background-color:  #79c379;\n",
       "            color:  #000000;\n",
       "        }#T_ab87a634_3e08_11eb_aaa9_e41f13eb8183row1_col2{\n",
       "            background-color:  #a8dda8;\n",
       "            color:  #000000;\n",
       "        }#T_ab87a634_3e08_11eb_aaa9_e41f13eb8183row1_col3{\n",
       "            background-color:  #229322;\n",
       "            color:  #000000;\n",
       "        }#T_ab87a634_3e08_11eb_aaa9_e41f13eb8183row2_col1{\n",
       "            background-color:  #329c32;\n",
       "            color:  #000000;\n",
       "        }#T_ab87a634_3e08_11eb_aaa9_e41f13eb8183row2_col3{\n",
       "            background-color:  #81c781;\n",
       "            color:  #000000;\n",
       "        }#T_ab87a634_3e08_11eb_aaa9_e41f13eb8183row2_col4,#T_ab87a634_3e08_11eb_aaa9_e41f13eb8183row5_col3{\n",
       "            background-color:  #269526;\n",
       "            color:  #000000;\n",
       "        }#T_ab87a634_3e08_11eb_aaa9_e41f13eb8183row3_col1{\n",
       "            background-color:  #84c984;\n",
       "            color:  #000000;\n",
       "        }#T_ab87a634_3e08_11eb_aaa9_e41f13eb8183row3_col2{\n",
       "            background-color:  #289628;\n",
       "            color:  #000000;\n",
       "        }#T_ab87a634_3e08_11eb_aaa9_e41f13eb8183row3_col4{\n",
       "            background-color:  #74c074;\n",
       "            color:  #000000;\n",
       "        }#T_ab87a634_3e08_11eb_aaa9_e41f13eb8183row4_col1{\n",
       "            background-color:  #b2e3b2;\n",
       "            color:  #000000;\n",
       "        }#T_ab87a634_3e08_11eb_aaa9_e41f13eb8183row4_col3{\n",
       "            background-color:  #5db35d;\n",
       "            color:  #000000;\n",
       "        }#T_ab87a634_3e08_11eb_aaa9_e41f13eb8183row4_col4{\n",
       "            background-color:  #a7dda7;\n",
       "            color:  #000000;\n",
       "        }#T_ab87a634_3e08_11eb_aaa9_e41f13eb8183row5_col1{\n",
       "            background-color:  #defbde;\n",
       "            color:  #000000;\n",
       "        }#T_ab87a634_3e08_11eb_aaa9_e41f13eb8183row5_col4{\n",
       "            background-color:  #61b661;\n",
       "            color:  #000000;\n",
       "        }#T_ab87a634_3e08_11eb_aaa9_e41f13eb8183row6_col0,#T_ab87a634_3e08_11eb_aaa9_e41f13eb8183row9_col1{\n",
       "            background-color:  #038103;\n",
       "            color:  #f1f1f1;\n",
       "        }#T_ab87a634_3e08_11eb_aaa9_e41f13eb8183row6_col3{\n",
       "            background-color:  #d6f7d6;\n",
       "            color:  #000000;\n",
       "        }#T_ab87a634_3e08_11eb_aaa9_e41f13eb8183row6_col4{\n",
       "            background-color:  #3aa03a;\n",
       "            color:  #000000;\n",
       "        }#T_ab87a634_3e08_11eb_aaa9_e41f13eb8183row7_col1{\n",
       "            background-color:  #d9f8d9;\n",
       "            color:  #000000;\n",
       "        }#T_ab87a634_3e08_11eb_aaa9_e41f13eb8183row7_col3{\n",
       "            background-color:  #c8efc8;\n",
       "            color:  #000000;\n",
       "        }#T_ab87a634_3e08_11eb_aaa9_e41f13eb8183row7_col4{\n",
       "            background-color:  #85ca85;\n",
       "            color:  #000000;\n",
       "        }#T_ab87a634_3e08_11eb_aaa9_e41f13eb8183row8_col0{\n",
       "            background-color:  #94d294;\n",
       "            color:  #000000;\n",
       "        }#T_ab87a634_3e08_11eb_aaa9_e41f13eb8183row8_col1{\n",
       "            background-color:  #b6e5b6;\n",
       "            color:  #000000;\n",
       "        }#T_ab87a634_3e08_11eb_aaa9_e41f13eb8183row8_col4{\n",
       "            background-color:  #42a442;\n",
       "            color:  #000000;\n",
       "        }#T_ab87a634_3e08_11eb_aaa9_e41f13eb8183row9_col0{\n",
       "            background-color:  #2f9a2f;\n",
       "            color:  #000000;\n",
       "        }#T_ab87a634_3e08_11eb_aaa9_e41f13eb8183row9_col4{\n",
       "            background-color:  #67b967;\n",
       "            color:  #000000;\n",
       "        }</style><table id=\"T_ab87a634_3e08_11eb_aaa9_e41f13eb8183\" ><thead>    <tr>        <th class=\"blank\" ></th>        <th class=\"index_name level0\" >handle</th>        <th class=\"col_heading level0 col0\" >BMeinl</th>        <th class=\"col_heading level0 col1\" >WKogler</th>        <th class=\"col_heading level0 col2\" >norbertghofer</th>        <th class=\"col_heading level0 col3\" >rendiwagner</th>        <th class=\"col_heading level0 col4\" >sebastiankurz</th>    </tr></thead><tbody>\n",
       "                <tr>\n",
       "                        <th id=\"T_ab87a634_3e08_11eb_aaa9_e41f13eb8183level0_row0\" class=\"row_heading level0 row0\" rowspan=5>Bias</th>\n",
       "                        <th id=\"T_ab87a634_3e08_11eb_aaa9_e41f13eb8183level1_row0\" class=\"row_heading level1 row0\" >Care</th>\n",
       "                        <td id=\"T_ab87a634_3e08_11eb_aaa9_e41f13eb8183row0_col0\" class=\"data row0 col0\" >1.621991</td>\n",
       "                        <td id=\"T_ab87a634_3e08_11eb_aaa9_e41f13eb8183row0_col1\" class=\"data row0 col1\" >1.792619</td>\n",
       "                        <td id=\"T_ab87a634_3e08_11eb_aaa9_e41f13eb8183row0_col2\" class=\"data row0 col2\" >1.830278</td>\n",
       "                        <td id=\"T_ab87a634_3e08_11eb_aaa9_e41f13eb8183row0_col3\" class=\"data row0 col3\" >1.881765</td>\n",
       "                        <td id=\"T_ab87a634_3e08_11eb_aaa9_e41f13eb8183row0_col4\" class=\"data row0 col4\" >1.870054</td>\n",
       "            </tr>\n",
       "            <tr>\n",
       "                                <th id=\"T_ab87a634_3e08_11eb_aaa9_e41f13eb8183level1_row1\" class=\"row_heading level1 row1\" >Fairness</th>\n",
       "                        <td id=\"T_ab87a634_3e08_11eb_aaa9_e41f13eb8183row1_col0\" class=\"data row1 col0\" >-1.149964</td>\n",
       "                        <td id=\"T_ab87a634_3e08_11eb_aaa9_e41f13eb8183row1_col1\" class=\"data row1 col1\" >-1.012880</td>\n",
       "                        <td id=\"T_ab87a634_3e08_11eb_aaa9_e41f13eb8183row1_col2\" class=\"data row1 col2\" >-1.203537</td>\n",
       "                        <td id=\"T_ab87a634_3e08_11eb_aaa9_e41f13eb8183row1_col3\" class=\"data row1 col3\" >-1.052355</td>\n",
       "                        <td id=\"T_ab87a634_3e08_11eb_aaa9_e41f13eb8183row1_col4\" class=\"data row1 col4\" >-1.272966</td>\n",
       "            </tr>\n",
       "            <tr>\n",
       "                                <th id=\"T_ab87a634_3e08_11eb_aaa9_e41f13eb8183level1_row2\" class=\"row_heading level1 row2\" >Loyalty</th>\n",
       "                        <td id=\"T_ab87a634_3e08_11eb_aaa9_e41f13eb8183row2_col0\" class=\"data row2 col0\" >0.507759</td>\n",
       "                        <td id=\"T_ab87a634_3e08_11eb_aaa9_e41f13eb8183row2_col1\" class=\"data row2 col1\" >0.592676</td>\n",
       "                        <td id=\"T_ab87a634_3e08_11eb_aaa9_e41f13eb8183row2_col2\" class=\"data row2 col2\" >0.616812</td>\n",
       "                        <td id=\"T_ab87a634_3e08_11eb_aaa9_e41f13eb8183row2_col3\" class=\"data row2 col3\" >0.555666</td>\n",
       "                        <td id=\"T_ab87a634_3e08_11eb_aaa9_e41f13eb8183row2_col4\" class=\"data row2 col4\" >0.598615</td>\n",
       "            </tr>\n",
       "            <tr>\n",
       "                                <th id=\"T_ab87a634_3e08_11eb_aaa9_e41f13eb8183level1_row3\" class=\"row_heading level1 row3\" >Authority</th>\n",
       "                        <td id=\"T_ab87a634_3e08_11eb_aaa9_e41f13eb8183row3_col0\" class=\"data row3 col0\" >1.192511</td>\n",
       "                        <td id=\"T_ab87a634_3e08_11eb_aaa9_e41f13eb8183row3_col1\" class=\"data row3 col1\" >1.251797</td>\n",
       "                        <td id=\"T_ab87a634_3e08_11eb_aaa9_e41f13eb8183row3_col2\" class=\"data row3 col2\" >1.308284</td>\n",
       "                        <td id=\"T_ab87a634_3e08_11eb_aaa9_e41f13eb8183row3_col3\" class=\"data row3 col3\" >1.332834</td>\n",
       "                        <td id=\"T_ab87a634_3e08_11eb_aaa9_e41f13eb8183row3_col4\" class=\"data row3 col4\" >1.261993</td>\n",
       "            </tr>\n",
       "            <tr>\n",
       "                                <th id=\"T_ab87a634_3e08_11eb_aaa9_e41f13eb8183level1_row4\" class=\"row_heading level1 row4\" >Sanctity</th>\n",
       "                        <td id=\"T_ab87a634_3e08_11eb_aaa9_e41f13eb8183row4_col0\" class=\"data row4 col0\" >-1.002516</td>\n",
       "                        <td id=\"T_ab87a634_3e08_11eb_aaa9_e41f13eb8183row4_col1\" class=\"data row4 col1\" >-0.943279</td>\n",
       "                        <td id=\"T_ab87a634_3e08_11eb_aaa9_e41f13eb8183row4_col2\" class=\"data row4 col2\" >-0.740214</td>\n",
       "                        <td id=\"T_ab87a634_3e08_11eb_aaa9_e41f13eb8183row4_col3\" class=\"data row4 col3\" >-0.846233</td>\n",
       "                        <td id=\"T_ab87a634_3e08_11eb_aaa9_e41f13eb8183row4_col4\" class=\"data row4 col4\" >-0.931668</td>\n",
       "            </tr>\n",
       "            <tr>\n",
       "                        <th id=\"T_ab87a634_3e08_11eb_aaa9_e41f13eb8183level0_row5\" class=\"row_heading level0 row5\" rowspan=5>inte</th>\n",
       "                        <th id=\"T_ab87a634_3e08_11eb_aaa9_e41f13eb8183level1_row5\" class=\"row_heading level1 row5\" >Care</th>\n",
       "                        <td id=\"T_ab87a634_3e08_11eb_aaa9_e41f13eb8183row5_col0\" class=\"data row5 col0\" >0.238969</td>\n",
       "                        <td id=\"T_ab87a634_3e08_11eb_aaa9_e41f13eb8183row5_col1\" class=\"data row5 col1\" >0.239524</td>\n",
       "                        <td id=\"T_ab87a634_3e08_11eb_aaa9_e41f13eb8183row5_col2\" class=\"data row5 col2\" >0.255483</td>\n",
       "                        <td id=\"T_ab87a634_3e08_11eb_aaa9_e41f13eb8183row5_col3\" class=\"data row5 col3\" >0.252735</td>\n",
       "                        <td id=\"T_ab87a634_3e08_11eb_aaa9_e41f13eb8183row5_col4\" class=\"data row5 col4\" >0.248509</td>\n",
       "            </tr>\n",
       "            <tr>\n",
       "                                <th id=\"T_ab87a634_3e08_11eb_aaa9_e41f13eb8183level1_row6\" class=\"row_heading level1 row6\" >Fairness</th>\n",
       "                        <td id=\"T_ab87a634_3e08_11eb_aaa9_e41f13eb8183row6_col0\" class=\"data row6 col0\" >0.186747</td>\n",
       "                        <td id=\"T_ab87a634_3e08_11eb_aaa9_e41f13eb8183row6_col1\" class=\"data row6 col1\" >0.181297</td>\n",
       "                        <td id=\"T_ab87a634_3e08_11eb_aaa9_e41f13eb8183row6_col2\" class=\"data row6 col2\" >0.186822</td>\n",
       "                        <td id=\"T_ab87a634_3e08_11eb_aaa9_e41f13eb8183row6_col3\" class=\"data row6 col3\" >0.181670</td>\n",
       "                        <td id=\"T_ab87a634_3e08_11eb_aaa9_e41f13eb8183row6_col4\" class=\"data row6 col4\" >0.185425</td>\n",
       "            </tr>\n",
       "            <tr>\n",
       "                                <th id=\"T_ab87a634_3e08_11eb_aaa9_e41f13eb8183level1_row7\" class=\"row_heading level1 row7\" >Loyalty</th>\n",
       "                        <td id=\"T_ab87a634_3e08_11eb_aaa9_e41f13eb8183row7_col0\" class=\"data row7 col0\" >0.165634</td>\n",
       "                        <td id=\"T_ab87a634_3e08_11eb_aaa9_e41f13eb8183row7_col1\" class=\"data row7 col1\" >0.166350</td>\n",
       "                        <td id=\"T_ab87a634_3e08_11eb_aaa9_e41f13eb8183row7_col2\" class=\"data row7 col2\" >0.178115</td>\n",
       "                        <td id=\"T_ab87a634_3e08_11eb_aaa9_e41f13eb8183row7_col3\" class=\"data row7 col3\" >0.167263</td>\n",
       "                        <td id=\"T_ab87a634_3e08_11eb_aaa9_e41f13eb8183row7_col4\" class=\"data row7 col4\" >0.170859</td>\n",
       "            </tr>\n",
       "            <tr>\n",
       "                                <th id=\"T_ab87a634_3e08_11eb_aaa9_e41f13eb8183level1_row8\" class=\"row_heading level1 row8\" >Authority</th>\n",
       "                        <td id=\"T_ab87a634_3e08_11eb_aaa9_e41f13eb8183row8_col0\" class=\"data row8 col0\" >0.158168</td>\n",
       "                        <td id=\"T_ab87a634_3e08_11eb_aaa9_e41f13eb8183row8_col1\" class=\"data row8 col1\" >0.156509</td>\n",
       "                        <td id=\"T_ab87a634_3e08_11eb_aaa9_e41f13eb8183row8_col2\" class=\"data row8 col2\" >0.165790</td>\n",
       "                        <td id=\"T_ab87a634_3e08_11eb_aaa9_e41f13eb8183row8_col3\" class=\"data row8 col3\" >0.154029</td>\n",
       "                        <td id=\"T_ab87a634_3e08_11eb_aaa9_e41f13eb8183row8_col4\" class=\"data row8 col4\" >0.162432</td>\n",
       "            </tr>\n",
       "            <tr>\n",
       "                                <th id=\"T_ab87a634_3e08_11eb_aaa9_e41f13eb8183level1_row9\" class=\"row_heading level1 row9\" >Sanctity</th>\n",
       "                        <td id=\"T_ab87a634_3e08_11eb_aaa9_e41f13eb8183row9_col0\" class=\"data row9 col0\" >0.187893</td>\n",
       "                        <td id=\"T_ab87a634_3e08_11eb_aaa9_e41f13eb8183row9_col1\" class=\"data row9 col1\" >0.189249</td>\n",
       "                        <td id=\"T_ab87a634_3e08_11eb_aaa9_e41f13eb8183row9_col2\" class=\"data row9 col2\" >0.182313</td>\n",
       "                        <td id=\"T_ab87a634_3e08_11eb_aaa9_e41f13eb8183row9_col3\" class=\"data row9 col3\" >0.189341</td>\n",
       "                        <td id=\"T_ab87a634_3e08_11eb_aaa9_e41f13eb8183row9_col4\" class=\"data row9 col4\" >0.186188</td>\n",
       "            </tr>\n",
       "    </tbody></table>"
      ],
      "text/plain": [
       "<pandas.io.formats.style.Styler at 0x7f1ab7755490>"
      ]
     },
     "execution_count": 20,
     "metadata": {},
     "output_type": "execute_result"
    }
   ],
   "source": [
    "latex_df.style.background_gradient(cmap=cm, axis=1)"
   ]
  },
  {
   "cell_type": "markdown",
   "metadata": {},
   "source": [
    "# Classification"
   ]
  },
  {
   "cell_type": "code",
   "execution_count": 21,
   "metadata": {},
   "outputs": [],
   "source": [
    "y_label = \"handle\""
   ]
  },
  {
   "cell_type": "code",
   "execution_count": 22,
   "metadata": {},
   "outputs": [],
   "source": [
    "bias_cols = [col for col in labelled_tweets if col.endswith(\"_bias\")]\n",
    "intensity_cols = [col for col in labelled_tweets if col.endswith(\"_inte\")]\n",
    "moral_cols = bias_cols + intensity_cols"
   ]
  },
  {
   "cell_type": "code",
   "execution_count": 23,
   "metadata": {},
   "outputs": [
    {
     "name": "stdout",
     "output_type": "stream",
     "text": [
      "(22205, 10)\n",
      "(22205, 1)\n"
     ]
    },
    {
     "data": {
      "text/plain": [
       "array([[0.042090144008398056, -0.010791267268359661,\n",
       "        -0.009655128233134747, ..., 0.0008328041876666248,\n",
       "        0.00037132322904653847, 'norbertghofer'],\n",
       "       [0.039963182806968686, 0.03574837446212768, 0.029774656891822814,\n",
       "        ..., 0.0023879304528236387, 0.000933664757758379,\n",
       "        'norbertghofer'],\n",
       "       [0.006778024137020111, -0.040702935308218, 0.0026229005306959152,\n",
       "        ..., 0.0016073163133114576, 0.0007585710845887661,\n",
       "        'norbertghofer'],\n",
       "       ...,\n",
       "       [0.02394310136636098, -0.008668599857224358, 0.005321538282765282,\n",
       "        ..., 0.0008060077412260903, 0.001651453682117992, 'rendiwagner'],\n",
       "       [0.02484341628021664, -0.00844273136721717, 0.01694544818666246,\n",
       "        ..., 0.0005479100574221876, 0.0028669018712308672, 'rendiwagner'],\n",
       "       [0.009926149249076843, 0.004325709491968155, 0.012591913342475891,\n",
       "        ..., 0.0015102806501090527, 0.0018842179328203202, 'rendiwagner']],\n",
       "      dtype=object)"
      ]
     },
     "execution_count": 23,
     "metadata": {},
     "output_type": "execute_result"
    }
   ],
   "source": [
    "Y = labelled_tweets[y_label].values\n",
    "X = labelled_tweets[moral_cols].values\n",
    "print(X.shape)\n",
    "print(np.expand_dims(Y, axis=1).shape)\n",
    "np.concatenate([X, np.expand_dims(Y, axis=1)], axis=1)"
   ]
  },
  {
   "cell_type": "code",
   "execution_count": 31,
   "metadata": {},
   "outputs": [
    {
     "name": "stderr",
     "output_type": "stream",
     "text": [
      "/home/mreiterhaas/miniconda3/envs/polarice/lib/python3.8/site-packages/sklearn/linear_model/_sag.py:329: ConvergenceWarning: The max_iter was reached which means the coef_ did not converge\n",
      "  warnings.warn(\"The max_iter was reached which means \"\n",
      "/home/mreiterhaas/miniconda3/envs/polarice/lib/python3.8/site-packages/sklearn/metrics/_classification.py:1221: UndefinedMetricWarning: Precision and F-score are ill-defined and being set to 0.0 in labels with no predicted samples. Use `zero_division` parameter to control this behavior.\n",
      "  _warn_prf(average, modifier, msg_start, len(result))\n"
     ]
    },
    {
     "data": {
      "text/plain": [
       "{'BMeinl': {'precision': 0.0, 'recall': 0.0, 'f1-score': 0.0, 'support': 237},\n",
       " 'WKogler': {'precision': 0.0, 'recall': 0.0, 'f1-score': 0.0, 'support': 534},\n",
       " 'norbertghofer': {'precision': 0.0,\n",
       "  'recall': 0.0,\n",
       "  'f1-score': 0.0,\n",
       "  'support': 193},\n",
       " 'rendiwagner': {'precision': 0.048270893371757925,\n",
       "  'recall': 1.0,\n",
       "  'f1-score': 0.09209621993127148,\n",
       "  'support': 268},\n",
       " 'sebastiankurz': {'precision': 0.0,\n",
       "  'recall': 0.0,\n",
       "  'f1-score': 0.0,\n",
       "  'support': 4320},\n",
       " 'accuracy': 0.048270893371757925,\n",
       " 'macro avg': {'precision': 0.009654178674351584,\n",
       "  'recall': 0.2,\n",
       "  'f1-score': 0.018419243986254295,\n",
       "  'support': 5552},\n",
       " 'weighted avg': {'precision': 0.0023300791469076233,\n",
       "  'recall': 0.048270893371757925,\n",
       "  'f1-score': 0.004445566812244373,\n",
       "  'support': 5552}}"
      ]
     },
     "execution_count": 31,
     "metadata": {},
     "output_type": "execute_result"
    }
   ],
   "source": [
    "from sklearn.linear_model import LogisticRegression\n",
    "from sklearn.tree import DecisionTreeClassifier\n",
    "from sklearn.ensemble import RandomForestClassifier\n",
    "from sklearn.model_selection import train_test_split\n",
    "from sklearn.metrics import classification_report\n",
    "\n",
    "X_train, X_test, Y_train, Y_test = train_test_split(X, Y, test_size=0.25, shuffle=True)\n",
    "classifier = LogisticRegression(max_iter=1000, penalty=\"l1\", solver=\"saga\", class_weight=\"balanced\").fit(X_train, Y_train)\n",
    "    \n",
    "Y_pred = classifier.predict(X_test)\n",
    "classification_report(Y_test, Y_pred, output_dict=True)"
   ]
  },
  {
   "cell_type": "code",
   "execution_count": 32,
   "metadata": {},
   "outputs": [
    {
     "name": "stdout",
     "output_type": "stream",
     "text": [
      "               precision    recall  f1-score   support\n",
      "\n",
      "       BMeinl       0.00      0.00      0.00       237\n",
      "      WKogler       0.00      0.00      0.00       534\n",
      "norbertghofer       0.00      0.00      0.00       193\n",
      "  rendiwagner       0.05      1.00      0.09       268\n",
      "sebastiankurz       0.00      0.00      0.00      4320\n",
      "\n",
      "     accuracy                           0.05      5552\n",
      "    macro avg       0.01      0.20      0.02      5552\n",
      " weighted avg       0.00      0.05      0.00      5552\n",
      "\n"
     ]
    }
   ],
   "source": [
    "print(classification_report(Y_test, Y_pred))"
   ]
  },
  {
   "cell_type": "code",
   "execution_count": 33,
   "metadata": {},
   "outputs": [
    {
     "data": {
      "text/plain": [
       "array([[-7.88361304e-01, -1.37523415e+00, -7.79941538e-02,\n",
       "        -3.48433693e-02, -3.67327740e+00,  7.70765624e-02,\n",
       "         7.23846902e-02,  2.54499195e-03,  8.01151354e-03,\n",
       "         1.04302811e-01],\n",
       "       [-4.62894152e-01,  1.24939313e+01, -9.98289187e-01,\n",
       "        -1.07793792e+00, -4.57318765e-01, -3.91199555e-02,\n",
       "        -4.63921946e-02,  3.10659605e-03,  1.66032378e-03,\n",
       "        -8.08283785e-03],\n",
       "       [-4.68211192e+00, -9.16517190e+00,  2.62713189e+00,\n",
       "        -3.65936141e-01,  1.56448259e+01,  1.09884365e-03,\n",
       "         3.79663643e-02, -2.74498102e-03, -9.36704407e-03,\n",
       "        -2.28120992e-02],\n",
       "       [ 2.14101623e+00,  2.40752971e+00, -7.98698104e+00,\n",
       "         2.56117613e+00, -1.45067150e-01, -9.98822836e-03,\n",
       "        -6.60276286e-02,  1.39369216e-03,  7.29296312e-03,\n",
       "        -2.02358385e-02],\n",
       "       [ 6.93118476e+00, -1.34076191e+01,  6.49393881e-01,\n",
       "        -2.90640469e-01,  4.57590666e-01, -1.06053153e-02,\n",
       "         1.80844090e-02, -9.35629556e-03, -2.99457624e-03,\n",
       "        -3.35304852e-02]])"
      ]
     },
     "execution_count": 33,
     "metadata": {},
     "output_type": "execute_result"
    }
   ],
   "source": [
    "classifier.coef_"
   ]
  },
  {
   "cell_type": "code",
   "execution_count": 38,
   "metadata": {},
   "outputs": [
    {
     "data": {
      "text/plain": [
       "array(['BMeinl', 'WKogler', 'norbertghofer', 'rendiwagner',\n",
       "       'sebastiankurz'], dtype=object)"
      ]
     },
     "execution_count": 38,
     "metadata": {},
     "output_type": "execute_result"
    }
   ],
   "source": [
    "classifier.classes_"
   ]
  },
  {
   "cell_type": "code",
   "execution_count": 87,
   "metadata": {},
   "outputs": [
    {
     "name": "stdout",
     "output_type": "stream",
     "text": [
      "\\begin{tabular}{lrrrrrrrrrr}\n",
      "\\toprule\n",
      "{} &  care\\_bias &  fair\\_bias &  loya\\_bias &  auth\\_bias &  sanc\\_bias &  care\\_inte &  fair\\_inte &  loya\\_inte &  auth\\_inte &  sanc\\_inte \\\\\n",
      "\\midrule\n",
      "BMeinl        &  -0.788361 &  -1.375234 &  -0.077994 &  -0.034843 &  -3.673277 &   0.077077 &   0.072385 &   0.002545 &   0.008012 &   0.104303 \\\\\n",
      "WKogler       &  -0.462894 &  12.493931 &  -0.998289 &  -1.077938 &  -0.457319 &  -0.039120 &  -0.046392 &   0.003107 &   0.001660 &  -0.008083 \\\\\n",
      "norbertghofer &  -4.682112 &  -9.165172 &   2.627132 &  -0.365936 &  15.644826 &   0.001099 &   0.037966 &  -0.002745 &  -0.009367 &  -0.022812 \\\\\n",
      "rendiwagner   &   2.141016 &   2.407530 &  -7.986981 &   2.561176 &  -0.145067 &  -0.009988 &  -0.066028 &   0.001394 &   0.007293 &  -0.020236 \\\\\n",
      "sebastiankurz &   6.931185 & -13.407619 &   0.649394 &  -0.290640 &   0.457591 &  -0.010605 &   0.018084 &  -0.009356 &  -0.002995 &  -0.033530 \\\\\n",
      "\\bottomrule\n",
      "\\end{tabular}\n",
      "\n"
     ]
    },
    {
     "data": {
      "text/html": [
       "<div>\n",
       "<style scoped>\n",
       "    .dataframe tbody tr th:only-of-type {\n",
       "        vertical-align: middle;\n",
       "    }\n",
       "\n",
       "    .dataframe tbody tr th {\n",
       "        vertical-align: top;\n",
       "    }\n",
       "\n",
       "    .dataframe thead th {\n",
       "        text-align: right;\n",
       "    }\n",
       "</style>\n",
       "<table border=\"1\" class=\"dataframe\">\n",
       "  <thead>\n",
       "    <tr style=\"text-align: right;\">\n",
       "      <th></th>\n",
       "      <th>care_bias</th>\n",
       "      <th>fair_bias</th>\n",
       "      <th>loya_bias</th>\n",
       "      <th>auth_bias</th>\n",
       "      <th>sanc_bias</th>\n",
       "      <th>care_inte</th>\n",
       "      <th>fair_inte</th>\n",
       "      <th>loya_inte</th>\n",
       "      <th>auth_inte</th>\n",
       "      <th>sanc_inte</th>\n",
       "    </tr>\n",
       "  </thead>\n",
       "  <tbody>\n",
       "    <tr>\n",
       "      <th>BMeinl</th>\n",
       "      <td>-0.788361</td>\n",
       "      <td>-1.375234</td>\n",
       "      <td>-0.077994</td>\n",
       "      <td>-0.034843</td>\n",
       "      <td>-3.673277</td>\n",
       "      <td>0.077077</td>\n",
       "      <td>0.072385</td>\n",
       "      <td>0.002545</td>\n",
       "      <td>0.008012</td>\n",
       "      <td>0.104303</td>\n",
       "    </tr>\n",
       "    <tr>\n",
       "      <th>WKogler</th>\n",
       "      <td>-0.462894</td>\n",
       "      <td>12.493931</td>\n",
       "      <td>-0.998289</td>\n",
       "      <td>-1.077938</td>\n",
       "      <td>-0.457319</td>\n",
       "      <td>-0.039120</td>\n",
       "      <td>-0.046392</td>\n",
       "      <td>0.003107</td>\n",
       "      <td>0.001660</td>\n",
       "      <td>-0.008083</td>\n",
       "    </tr>\n",
       "    <tr>\n",
       "      <th>norbertghofer</th>\n",
       "      <td>-4.682112</td>\n",
       "      <td>-9.165172</td>\n",
       "      <td>2.627132</td>\n",
       "      <td>-0.365936</td>\n",
       "      <td>15.644826</td>\n",
       "      <td>0.001099</td>\n",
       "      <td>0.037966</td>\n",
       "      <td>-0.002745</td>\n",
       "      <td>-0.009367</td>\n",
       "      <td>-0.022812</td>\n",
       "    </tr>\n",
       "    <tr>\n",
       "      <th>rendiwagner</th>\n",
       "      <td>2.141016</td>\n",
       "      <td>2.407530</td>\n",
       "      <td>-7.986981</td>\n",
       "      <td>2.561176</td>\n",
       "      <td>-0.145067</td>\n",
       "      <td>-0.009988</td>\n",
       "      <td>-0.066028</td>\n",
       "      <td>0.001394</td>\n",
       "      <td>0.007293</td>\n",
       "      <td>-0.020236</td>\n",
       "    </tr>\n",
       "    <tr>\n",
       "      <th>sebastiankurz</th>\n",
       "      <td>6.931185</td>\n",
       "      <td>-13.407619</td>\n",
       "      <td>0.649394</td>\n",
       "      <td>-0.290640</td>\n",
       "      <td>0.457591</td>\n",
       "      <td>-0.010605</td>\n",
       "      <td>0.018084</td>\n",
       "      <td>-0.009356</td>\n",
       "      <td>-0.002995</td>\n",
       "      <td>-0.033530</td>\n",
       "    </tr>\n",
       "  </tbody>\n",
       "</table>\n",
       "</div>"
      ],
      "text/plain": [
       "               care_bias  fair_bias  loya_bias  auth_bias  sanc_bias  \\\n",
       "BMeinl         -0.788361  -1.375234  -0.077994  -0.034843  -3.673277   \n",
       "WKogler        -0.462894  12.493931  -0.998289  -1.077938  -0.457319   \n",
       "norbertghofer  -4.682112  -9.165172   2.627132  -0.365936  15.644826   \n",
       "rendiwagner     2.141016   2.407530  -7.986981   2.561176  -0.145067   \n",
       "sebastiankurz   6.931185 -13.407619   0.649394  -0.290640   0.457591   \n",
       "\n",
       "               care_inte  fair_inte  loya_inte  auth_inte  sanc_inte  \n",
       "BMeinl          0.077077   0.072385   0.002545   0.008012   0.104303  \n",
       "WKogler        -0.039120  -0.046392   0.003107   0.001660  -0.008083  \n",
       "norbertghofer   0.001099   0.037966  -0.002745  -0.009367  -0.022812  \n",
       "rendiwagner    -0.009988  -0.066028   0.001394   0.007293  -0.020236  \n",
       "sebastiankurz  -0.010605   0.018084  -0.009356  -0.002995  -0.033530  "
      ]
     },
     "execution_count": 87,
     "metadata": {},
     "output_type": "execute_result"
    }
   ],
   "source": [
    "coef_df = pd.DataFrame.from_records(classifier.coef_, index=classifier.classes_, columns=moral_cols)\n",
    "print(coef_df.to_latex())  # TODO: format the table\n",
    "coef_df"
   ]
  },
  {
   "cell_type": "code",
   "execution_count": 66,
   "metadata": {},
   "outputs": [
    {
     "data": {
      "text/html": [
       "<div>\n",
       "<style scoped>\n",
       "    .dataframe tbody tr th:only-of-type {\n",
       "        vertical-align: middle;\n",
       "    }\n",
       "\n",
       "    .dataframe tbody tr th {\n",
       "        vertical-align: top;\n",
       "    }\n",
       "\n",
       "    .dataframe thead th {\n",
       "        text-align: right;\n",
       "    }\n",
       "</style>\n",
       "<table border=\"1\" class=\"dataframe\">\n",
       "  <thead>\n",
       "    <tr style=\"text-align: right;\">\n",
       "      <th></th>\n",
       "      <th>handle</th>\n",
       "      <th>coef</th>\n",
       "      <th>moral</th>\n",
       "      <th>bias/inte</th>\n",
       "    </tr>\n",
       "  </thead>\n",
       "  <tbody>\n",
       "    <tr>\n",
       "      <th>0</th>\n",
       "      <td>BMeinl</td>\n",
       "      <td>-0.788361</td>\n",
       "      <td>care</td>\n",
       "      <td>bias</td>\n",
       "    </tr>\n",
       "    <tr>\n",
       "      <th>1</th>\n",
       "      <td>BMeinl</td>\n",
       "      <td>-1.375234</td>\n",
       "      <td>fair</td>\n",
       "      <td>bias</td>\n",
       "    </tr>\n",
       "    <tr>\n",
       "      <th>2</th>\n",
       "      <td>BMeinl</td>\n",
       "      <td>-0.077994</td>\n",
       "      <td>loya</td>\n",
       "      <td>bias</td>\n",
       "    </tr>\n",
       "    <tr>\n",
       "      <th>3</th>\n",
       "      <td>BMeinl</td>\n",
       "      <td>-0.034843</td>\n",
       "      <td>auth</td>\n",
       "      <td>bias</td>\n",
       "    </tr>\n",
       "    <tr>\n",
       "      <th>4</th>\n",
       "      <td>BMeinl</td>\n",
       "      <td>-3.673277</td>\n",
       "      <td>sanc</td>\n",
       "      <td>bias</td>\n",
       "    </tr>\n",
       "    <tr>\n",
       "      <th>5</th>\n",
       "      <td>BMeinl</td>\n",
       "      <td>0.077077</td>\n",
       "      <td>care</td>\n",
       "      <td>inte</td>\n",
       "    </tr>\n",
       "    <tr>\n",
       "      <th>6</th>\n",
       "      <td>BMeinl</td>\n",
       "      <td>0.072385</td>\n",
       "      <td>fair</td>\n",
       "      <td>inte</td>\n",
       "    </tr>\n",
       "    <tr>\n",
       "      <th>7</th>\n",
       "      <td>BMeinl</td>\n",
       "      <td>0.002545</td>\n",
       "      <td>loya</td>\n",
       "      <td>inte</td>\n",
       "    </tr>\n",
       "    <tr>\n",
       "      <th>8</th>\n",
       "      <td>BMeinl</td>\n",
       "      <td>0.008012</td>\n",
       "      <td>auth</td>\n",
       "      <td>inte</td>\n",
       "    </tr>\n",
       "    <tr>\n",
       "      <th>9</th>\n",
       "      <td>BMeinl</td>\n",
       "      <td>0.104303</td>\n",
       "      <td>sanc</td>\n",
       "      <td>inte</td>\n",
       "    </tr>\n",
       "    <tr>\n",
       "      <th>10</th>\n",
       "      <td>WKogler</td>\n",
       "      <td>-0.462894</td>\n",
       "      <td>care</td>\n",
       "      <td>bias</td>\n",
       "    </tr>\n",
       "    <tr>\n",
       "      <th>11</th>\n",
       "      <td>WKogler</td>\n",
       "      <td>12.493931</td>\n",
       "      <td>fair</td>\n",
       "      <td>bias</td>\n",
       "    </tr>\n",
       "    <tr>\n",
       "      <th>12</th>\n",
       "      <td>WKogler</td>\n",
       "      <td>-0.998289</td>\n",
       "      <td>loya</td>\n",
       "      <td>bias</td>\n",
       "    </tr>\n",
       "    <tr>\n",
       "      <th>13</th>\n",
       "      <td>WKogler</td>\n",
       "      <td>-1.077938</td>\n",
       "      <td>auth</td>\n",
       "      <td>bias</td>\n",
       "    </tr>\n",
       "    <tr>\n",
       "      <th>14</th>\n",
       "      <td>WKogler</td>\n",
       "      <td>-0.457319</td>\n",
       "      <td>sanc</td>\n",
       "      <td>bias</td>\n",
       "    </tr>\n",
       "    <tr>\n",
       "      <th>15</th>\n",
       "      <td>WKogler</td>\n",
       "      <td>-0.039120</td>\n",
       "      <td>care</td>\n",
       "      <td>inte</td>\n",
       "    </tr>\n",
       "    <tr>\n",
       "      <th>16</th>\n",
       "      <td>WKogler</td>\n",
       "      <td>-0.046392</td>\n",
       "      <td>fair</td>\n",
       "      <td>inte</td>\n",
       "    </tr>\n",
       "    <tr>\n",
       "      <th>17</th>\n",
       "      <td>WKogler</td>\n",
       "      <td>0.003107</td>\n",
       "      <td>loya</td>\n",
       "      <td>inte</td>\n",
       "    </tr>\n",
       "    <tr>\n",
       "      <th>18</th>\n",
       "      <td>WKogler</td>\n",
       "      <td>0.001660</td>\n",
       "      <td>auth</td>\n",
       "      <td>inte</td>\n",
       "    </tr>\n",
       "    <tr>\n",
       "      <th>19</th>\n",
       "      <td>WKogler</td>\n",
       "      <td>-0.008083</td>\n",
       "      <td>sanc</td>\n",
       "      <td>inte</td>\n",
       "    </tr>\n",
       "    <tr>\n",
       "      <th>20</th>\n",
       "      <td>norbertghofer</td>\n",
       "      <td>-4.682112</td>\n",
       "      <td>care</td>\n",
       "      <td>bias</td>\n",
       "    </tr>\n",
       "    <tr>\n",
       "      <th>21</th>\n",
       "      <td>norbertghofer</td>\n",
       "      <td>-9.165172</td>\n",
       "      <td>fair</td>\n",
       "      <td>bias</td>\n",
       "    </tr>\n",
       "    <tr>\n",
       "      <th>22</th>\n",
       "      <td>norbertghofer</td>\n",
       "      <td>2.627132</td>\n",
       "      <td>loya</td>\n",
       "      <td>bias</td>\n",
       "    </tr>\n",
       "    <tr>\n",
       "      <th>23</th>\n",
       "      <td>norbertghofer</td>\n",
       "      <td>-0.365936</td>\n",
       "      <td>auth</td>\n",
       "      <td>bias</td>\n",
       "    </tr>\n",
       "    <tr>\n",
       "      <th>24</th>\n",
       "      <td>norbertghofer</td>\n",
       "      <td>15.644826</td>\n",
       "      <td>sanc</td>\n",
       "      <td>bias</td>\n",
       "    </tr>\n",
       "    <tr>\n",
       "      <th>25</th>\n",
       "      <td>norbertghofer</td>\n",
       "      <td>0.001099</td>\n",
       "      <td>care</td>\n",
       "      <td>inte</td>\n",
       "    </tr>\n",
       "    <tr>\n",
       "      <th>26</th>\n",
       "      <td>norbertghofer</td>\n",
       "      <td>0.037966</td>\n",
       "      <td>fair</td>\n",
       "      <td>inte</td>\n",
       "    </tr>\n",
       "    <tr>\n",
       "      <th>27</th>\n",
       "      <td>norbertghofer</td>\n",
       "      <td>-0.002745</td>\n",
       "      <td>loya</td>\n",
       "      <td>inte</td>\n",
       "    </tr>\n",
       "    <tr>\n",
       "      <th>28</th>\n",
       "      <td>norbertghofer</td>\n",
       "      <td>-0.009367</td>\n",
       "      <td>auth</td>\n",
       "      <td>inte</td>\n",
       "    </tr>\n",
       "    <tr>\n",
       "      <th>29</th>\n",
       "      <td>norbertghofer</td>\n",
       "      <td>-0.022812</td>\n",
       "      <td>sanc</td>\n",
       "      <td>inte</td>\n",
       "    </tr>\n",
       "    <tr>\n",
       "      <th>30</th>\n",
       "      <td>rendiwagner</td>\n",
       "      <td>2.141016</td>\n",
       "      <td>care</td>\n",
       "      <td>bias</td>\n",
       "    </tr>\n",
       "    <tr>\n",
       "      <th>31</th>\n",
       "      <td>rendiwagner</td>\n",
       "      <td>2.407530</td>\n",
       "      <td>fair</td>\n",
       "      <td>bias</td>\n",
       "    </tr>\n",
       "    <tr>\n",
       "      <th>32</th>\n",
       "      <td>rendiwagner</td>\n",
       "      <td>-7.986981</td>\n",
       "      <td>loya</td>\n",
       "      <td>bias</td>\n",
       "    </tr>\n",
       "    <tr>\n",
       "      <th>33</th>\n",
       "      <td>rendiwagner</td>\n",
       "      <td>2.561176</td>\n",
       "      <td>auth</td>\n",
       "      <td>bias</td>\n",
       "    </tr>\n",
       "    <tr>\n",
       "      <th>34</th>\n",
       "      <td>rendiwagner</td>\n",
       "      <td>-0.145067</td>\n",
       "      <td>sanc</td>\n",
       "      <td>bias</td>\n",
       "    </tr>\n",
       "    <tr>\n",
       "      <th>35</th>\n",
       "      <td>rendiwagner</td>\n",
       "      <td>-0.009988</td>\n",
       "      <td>care</td>\n",
       "      <td>inte</td>\n",
       "    </tr>\n",
       "    <tr>\n",
       "      <th>36</th>\n",
       "      <td>rendiwagner</td>\n",
       "      <td>-0.066028</td>\n",
       "      <td>fair</td>\n",
       "      <td>inte</td>\n",
       "    </tr>\n",
       "    <tr>\n",
       "      <th>37</th>\n",
       "      <td>rendiwagner</td>\n",
       "      <td>0.001394</td>\n",
       "      <td>loya</td>\n",
       "      <td>inte</td>\n",
       "    </tr>\n",
       "    <tr>\n",
       "      <th>38</th>\n",
       "      <td>rendiwagner</td>\n",
       "      <td>0.007293</td>\n",
       "      <td>auth</td>\n",
       "      <td>inte</td>\n",
       "    </tr>\n",
       "    <tr>\n",
       "      <th>39</th>\n",
       "      <td>rendiwagner</td>\n",
       "      <td>-0.020236</td>\n",
       "      <td>sanc</td>\n",
       "      <td>inte</td>\n",
       "    </tr>\n",
       "    <tr>\n",
       "      <th>40</th>\n",
       "      <td>sebastiankurz</td>\n",
       "      <td>6.931185</td>\n",
       "      <td>care</td>\n",
       "      <td>bias</td>\n",
       "    </tr>\n",
       "    <tr>\n",
       "      <th>41</th>\n",
       "      <td>sebastiankurz</td>\n",
       "      <td>-13.407619</td>\n",
       "      <td>fair</td>\n",
       "      <td>bias</td>\n",
       "    </tr>\n",
       "    <tr>\n",
       "      <th>42</th>\n",
       "      <td>sebastiankurz</td>\n",
       "      <td>0.649394</td>\n",
       "      <td>loya</td>\n",
       "      <td>bias</td>\n",
       "    </tr>\n",
       "    <tr>\n",
       "      <th>43</th>\n",
       "      <td>sebastiankurz</td>\n",
       "      <td>-0.290640</td>\n",
       "      <td>auth</td>\n",
       "      <td>bias</td>\n",
       "    </tr>\n",
       "    <tr>\n",
       "      <th>44</th>\n",
       "      <td>sebastiankurz</td>\n",
       "      <td>0.457591</td>\n",
       "      <td>sanc</td>\n",
       "      <td>bias</td>\n",
       "    </tr>\n",
       "    <tr>\n",
       "      <th>45</th>\n",
       "      <td>sebastiankurz</td>\n",
       "      <td>-0.010605</td>\n",
       "      <td>care</td>\n",
       "      <td>inte</td>\n",
       "    </tr>\n",
       "    <tr>\n",
       "      <th>46</th>\n",
       "      <td>sebastiankurz</td>\n",
       "      <td>0.018084</td>\n",
       "      <td>fair</td>\n",
       "      <td>inte</td>\n",
       "    </tr>\n",
       "    <tr>\n",
       "      <th>47</th>\n",
       "      <td>sebastiankurz</td>\n",
       "      <td>-0.009356</td>\n",
       "      <td>loya</td>\n",
       "      <td>inte</td>\n",
       "    </tr>\n",
       "    <tr>\n",
       "      <th>48</th>\n",
       "      <td>sebastiankurz</td>\n",
       "      <td>-0.002995</td>\n",
       "      <td>auth</td>\n",
       "      <td>inte</td>\n",
       "    </tr>\n",
       "    <tr>\n",
       "      <th>49</th>\n",
       "      <td>sebastiankurz</td>\n",
       "      <td>-0.033530</td>\n",
       "      <td>sanc</td>\n",
       "      <td>inte</td>\n",
       "    </tr>\n",
       "  </tbody>\n",
       "</table>\n",
       "</div>"
      ],
      "text/plain": [
       "           handle       coef moral bias/inte\n",
       "0          BMeinl  -0.788361  care      bias\n",
       "1          BMeinl  -1.375234  fair      bias\n",
       "2          BMeinl  -0.077994  loya      bias\n",
       "3          BMeinl  -0.034843  auth      bias\n",
       "4          BMeinl  -3.673277  sanc      bias\n",
       "5          BMeinl   0.077077  care      inte\n",
       "6          BMeinl   0.072385  fair      inte\n",
       "7          BMeinl   0.002545  loya      inte\n",
       "8          BMeinl   0.008012  auth      inte\n",
       "9          BMeinl   0.104303  sanc      inte\n",
       "10        WKogler  -0.462894  care      bias\n",
       "11        WKogler  12.493931  fair      bias\n",
       "12        WKogler  -0.998289  loya      bias\n",
       "13        WKogler  -1.077938  auth      bias\n",
       "14        WKogler  -0.457319  sanc      bias\n",
       "15        WKogler  -0.039120  care      inte\n",
       "16        WKogler  -0.046392  fair      inte\n",
       "17        WKogler   0.003107  loya      inte\n",
       "18        WKogler   0.001660  auth      inte\n",
       "19        WKogler  -0.008083  sanc      inte\n",
       "20  norbertghofer  -4.682112  care      bias\n",
       "21  norbertghofer  -9.165172  fair      bias\n",
       "22  norbertghofer   2.627132  loya      bias\n",
       "23  norbertghofer  -0.365936  auth      bias\n",
       "24  norbertghofer  15.644826  sanc      bias\n",
       "25  norbertghofer   0.001099  care      inte\n",
       "26  norbertghofer   0.037966  fair      inte\n",
       "27  norbertghofer  -0.002745  loya      inte\n",
       "28  norbertghofer  -0.009367  auth      inte\n",
       "29  norbertghofer  -0.022812  sanc      inte\n",
       "30    rendiwagner   2.141016  care      bias\n",
       "31    rendiwagner   2.407530  fair      bias\n",
       "32    rendiwagner  -7.986981  loya      bias\n",
       "33    rendiwagner   2.561176  auth      bias\n",
       "34    rendiwagner  -0.145067  sanc      bias\n",
       "35    rendiwagner  -0.009988  care      inte\n",
       "36    rendiwagner  -0.066028  fair      inte\n",
       "37    rendiwagner   0.001394  loya      inte\n",
       "38    rendiwagner   0.007293  auth      inte\n",
       "39    rendiwagner  -0.020236  sanc      inte\n",
       "40  sebastiankurz   6.931185  care      bias\n",
       "41  sebastiankurz -13.407619  fair      bias\n",
       "42  sebastiankurz   0.649394  loya      bias\n",
       "43  sebastiankurz  -0.290640  auth      bias\n",
       "44  sebastiankurz   0.457591  sanc      bias\n",
       "45  sebastiankurz  -0.010605  care      inte\n",
       "46  sebastiankurz   0.018084  fair      inte\n",
       "47  sebastiankurz  -0.009356  loya      inte\n",
       "48  sebastiankurz  -0.002995  auth      inte\n",
       "49  sebastiankurz  -0.033530  sanc      inte"
      ]
     },
     "execution_count": 66,
     "metadata": {},
     "output_type": "execute_result"
    }
   ],
   "source": [
    "coef_df = coef_df.stack().to_frame().reset_index()\n",
    "coef_df[[\"moral\", \"bias/inte\"]] = coef_df[\"level_1\"].str.split(\"_\", expand=True)\n",
    "coef_df = coef_df.drop(columns=[\"level_1\"])\n",
    "coef_df = coef_df.rename(columns={\"level_0\": \"handle\", 0: \"coef\"})\n",
    "coef_df"
   ]
  },
  {
   "cell_type": "code",
   "execution_count": 68,
   "metadata": {},
   "outputs": [
    {
     "data": {
      "text/plain": [
       "<AxesSubplot:xlabel='moral', ylabel='coef'>"
      ]
     },
     "execution_count": 68,
     "metadata": {},
     "output_type": "execute_result"
    },
    {
     "data": {
      "image/png": "[encoded data removed]",
      "text/plain": [
       "<Figure size 432x288 with 1 Axes>"
      ]
     },
     "metadata": {
      "needs_background": "light"
     },
     "output_type": "display_data"
    }
   ],
   "source": [
    "bias_df = coef_df[coef_df[\"bias/inte\"] == \"bias\"]\n",
    "sns.pointplot(data=bias_df, x=\"moral\", y=\"coef\", hue=\"handle\")"
   ]
  },
  {
   "cell_type": "code",
   "execution_count": 69,
   "metadata": {},
   "outputs": [
    {
     "data": {
      "text/plain": [
       "<AxesSubplot:xlabel='moral', ylabel='coef'>"
      ]
     },
     "execution_count": 69,
     "metadata": {},
     "output_type": "execute_result"
    },
    {
     "data": {
      "image/png": "[encoded data removed]",
      "text/plain": [
       "<Figure size 432x288 with 1 Axes>"
      ]
     },
     "metadata": {
      "needs_background": "light"
     },
     "output_type": "display_data"
    }
   ],
   "source": [
    "inte_df = coef_df[coef_df[\"bias/inte\"] == \"inte\"]\n",
    "sns.pointplot(data=inte_df, x=\"moral\", y=\"coef\", hue=\"handle\")"
   ]
  },
  {
   "cell_type": "code",
   "execution_count": null,
   "metadata": {},
   "outputs": [],
   "source": [
    "# pairplot on traindata: https://scikit-learn.org/stable/auto_examples/inspection/plot_linear_model_coefficient_interpretation.html\n",
    "dataset = labelled_tweets[[y_label] + moral_cols].copy()\n",
    "dataset  # output clear for privacy"
   ]
  },
  {
   "cell_type": "code",
   "execution_count": 84,
   "metadata": {},
   "outputs": [],
   "source": [
    "ds = dataset.sample(1000)"
   ]
  },
  {
   "cell_type": "code",
   "execution_count": null,
   "metadata": {},
   "outputs": [],
   "source": [
    "%%time\n",
    "g = sns.pairplot(ds, kind=\"reg\", diag_kind=\"kde\", hue=\"handle\")\n",
    "g.map_lower(sns.kdeplot, levels=4, color=\".2\")\n",
    "plt.savefig(\"pairplot_austria.pdf\", dpi=300)\n",
    "plt.show()"
   ]
  },
  {
   "cell_type": "code",
   "execution_count": null,
   "metadata": {},
   "outputs": [],
   "source": []
  }
 ],
 "metadata": {
  "kernelspec": {
   "display_name": "polarice",
   "language": "python",
   "name": "polarice"
  },
  "language_info": {
   "codemirror_mode": {
    "name": "ipython",
    "version": 3
   },
   "file_extension": ".py",
   "mimetype": "text/x-python",
   "name": "python",
   "nbconvert_exporter": "python",
   "pygments_lexer": "ipython3",
   "version": "3.8.5"
  }
 },
 "nbformat": 4,
 "nbformat_minor": 4
}
