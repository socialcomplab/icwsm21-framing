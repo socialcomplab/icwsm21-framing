{
 "cells": [
  {
   "cell_type": "code",
   "execution_count": 1,
   "metadata": {},
   "outputs": [],
   "source": [
    "import pandas as pd\n",
    "from collections import Counter\n",
    "import seaborn as sns\n",
    "import umap\n",
    "import matplotlib.pyplot as plt\n",
    "import texthero as hero\n",
    "import polarice\n",
    "import polarice.preprocessing\n",
    "from gensim.models import KeyedVectors\n",
    "import glob\n",
    "import numpy as np\n",
    "\n",
    "np.random.seed(42)\n",
    "\n",
    "data_dir = \"./data/framing/elites_tweets/\"\n",
    "limit_top_w2v = 500_000"
   ]
  },
  {
   "cell_type": "code",
   "execution_count": 2,
   "metadata": {},
   "outputs": [],
   "source": [
    "all_files = glob.glob(data_dir + \"*.jsonl\")\n",
    "\n",
    "li = []\n",
    "\n",
    "for filename in all_files:\n",
    "    df = pd.read_json(filename, lines=True)\n",
    "    li.append(df)\n",
    "\n",
    "frame = pd.concat(li, axis=0, ignore_index=True)"
   ]
  },
  {
   "cell_type": "code",
   "execution_count": 3,
   "metadata": {},
   "outputs": [
    {
     "name": "stdout",
     "output_type": "stream",
     "text": [
      "<class 'pandas.core.frame.DataFrame'>\n",
      "RangeIndex: 587 entries, 0 to 586\n",
      "Data columns (total 10 columns):\n",
      " #   Column        Non-Null Count  Dtype  \n",
      "---  ------        --------------  -----  \n",
      " 0   thomas_id     547 non-null    float64\n",
      " 1   id            547 non-null    object \n",
      " 2   chamber       547 non-null    object \n",
      " 3   stdis         547 non-null    object \n",
      " 4   first_name    547 non-null    object \n",
      " 5   last_name     547 non-null    object \n",
      " 6   party         587 non-null    object \n",
      " 7   twitter_name  556 non-null    object \n",
      " 8   twitter_id    556 non-null    float64\n",
      " 9   type          587 non-null    object \n",
      "dtypes: float64(2), object(8)\n",
      "memory usage: 46.0+ KB\n"
     ]
    }
   ],
   "source": [
    "elites_df = pd.read_csv(data_dir + \"../input/elites-data.csv\")\n",
    "elites_df.info()"
   ]
  },
  {
   "cell_type": "code",
   "execution_count": 4,
   "metadata": {},
   "outputs": [
    {
     "name": "stdout",
     "output_type": "stream",
     "text": [
      "<class 'pandas.core.frame.DataFrame'>\n",
      "RangeIndex: 1439000 entries, 0 to 1438999\n",
      "Data columns (total 35 columns):\n",
      " #   Column                     Non-Null Count    Dtype              \n",
      "---  ------                     --------------    -----              \n",
      " 0   created_at                 1439000 non-null  datetime64[ns, UTC]\n",
      " 1   id                         1439000 non-null  int64              \n",
      " 2   id_str                     1439000 non-null  int64              \n",
      " 3   full_text                  1439000 non-null  object             \n",
      " 4   truncated                  1439000 non-null  bool               \n",
      " 5   display_text_range         1439000 non-null  object             \n",
      " 6   entities                   1439000 non-null  object             \n",
      " 7   source                     1439000 non-null  object             \n",
      " 8   in_reply_to_status_id      124710 non-null   float64            \n",
      " 9   in_reply_to_status_id_str  124710 non-null   float64            \n",
      " 10  in_reply_to_user_id        132186 non-null   float64            \n",
      " 11  in_reply_to_user_id_str    132186 non-null   float64            \n",
      " 12  in_reply_to_screen_name    132186 non-null   object             \n",
      " 13  user                       1439000 non-null  object             \n",
      " 14  geo                        950 non-null      object             \n",
      " 15  coordinates                950 non-null      object             \n",
      " 16  place                      18739 non-null    object             \n",
      " 17  contributors               0 non-null        float64            \n",
      " 18  is_quote_status            1439000 non-null  bool               \n",
      " 19  retweet_count              1439000 non-null  int64              \n",
      " 20  favorite_count             1439000 non-null  int64              \n",
      " 21  favorited                  1439000 non-null  bool               \n",
      " 22  retweeted                  1439000 non-null  bool               \n",
      " 23  lang                       1439000 non-null  object             \n",
      " 24  extended_entities          330915 non-null   object             \n",
      " 25  possibly_sensitive         876606 non-null   object             \n",
      " 26  retweeted_status           303129 non-null   object             \n",
      " 27  quoted_status_id           143968 non-null   float64            \n",
      " 28  quoted_status_id_str       143968 non-null   float64            \n",
      " 29  quoted_status_permalink    143959 non-null   object             \n",
      " 30  quoted_status              114478 non-null   object             \n",
      " 31  withheld_scope             17 non-null       object             \n",
      " 32  withheld_copyright         17 non-null       float64            \n",
      " 33  withheld_in_countries      38 non-null       object             \n",
      " 34  user_id                    1439000 non-null  int64              \n",
      "dtypes: bool(4), datetime64[ns, UTC](1), float64(8), int64(5), object(17)\n",
      "memory usage: 345.8+ MB\n"
     ]
    }
   ],
   "source": [
    "frame[\"user_id\"] = frame[\"user\"].map(lambda x: x[\"id\"])\n",
    "frame.info()"
   ]
  },
  {
   "cell_type": "code",
   "execution_count": 5,
   "metadata": {},
   "outputs": [
    {
     "data": {
      "text/plain": [
       "511"
      ]
     },
     "execution_count": 5,
     "metadata": {},
     "output_type": "execute_result"
    }
   ],
   "source": [
    "frame[\"user_id\"].nunique()"
   ]
  },
  {
   "cell_type": "code",
   "execution_count": 6,
   "metadata": {},
   "outputs": [],
   "source": [
    "labelled_tweets = frame.merge(elites_df, left_on=\"user_id\", right_on=\"twitter_id\")"
   ]
  },
  {
   "cell_type": "code",
   "execution_count": null,
   "metadata": {},
   "outputs": [],
   "source": [
    "german_tweet_pipeline = polarice.preprocessing.ENGLISH_TWEET_PIPELINE\n",
    "labelled_tweets[\"cleaned\"] = labelled_tweets[\"full_text\"].pipe(hero.clean, pipeline=german_tweet_pipeline)\n",
    "labelled_tweets  # output clear for privacy"
   ]
  },
  {
   "cell_type": "code",
   "execution_count": 8,
   "metadata": {},
   "outputs": [],
   "source": [
    "model = KeyedVectors.load_word2vec_format(\"glove.840B.300d_w2v.txt\", binary=False, limit=limit_top_w2v)"
   ]
  },
  {
   "cell_type": "code",
   "execution_count": 9,
   "metadata": {},
   "outputs": [
    {
     "data": {
      "text/plain": [
       "{'care/harm': <__main__.FrameAxis at 0x7f953d316b50>,\n",
       " 'fairness/cheating': <__main__.FrameAxis at 0x7f953d7720d0>,\n",
       " 'loyalty/betrayal': <__main__.FrameAxis at 0x7f955810f3d0>,\n",
       " 'authority/subversion': <__main__.FrameAxis at 0x7f955a3e2820>,\n",
       " 'sanctity/degradation': <__main__.FrameAxis at 0x7f9559584f10>}"
      ]
     },
     "execution_count": 9,
     "metadata": {},
     "output_type": "execute_result"
    }
   ],
   "source": [
    "%run frame_axis.py\n",
    "\n",
    "fs = FrameSystem.load(\"moral.pkl\")\n",
    "fs.attach_model(model)\n",
    "fs.compute()\n",
    "fs.frame_axes"
   ]
  },
  {
   "cell_type": "code",
   "execution_count": 10,
   "metadata": {},
   "outputs": [
    {
     "name": "stderr",
     "output_type": "stream",
     "text": [
      "100%|██████████| 1/1 [08:15<00:00, 495.27s/it]\n",
      "100%|██████████| 1/1 [08:18<00:00, 498.25s/it]\n",
      "100%|██████████| 1/1 [08:21<00:00, 501.37s/it]\n",
      "100%|██████████| 1/1 [08:15<00:00, 495.85s/it]\n",
      "100%|██████████| 1/1 [08:18<00:00, 498.88s/it]"
     ]
    },
    {
     "name": "stdout",
     "output_type": "stream",
     "text": [
      "CPU times: user 1h 20min 57s, sys: 1min 37s, total: 1h 22min 34s\n",
      "Wall time: 1h 22min 35s\n"
     ]
    },
    {
     "name": "stderr",
     "output_type": "stream",
     "text": [
      "\n"
     ]
    },
    {
     "data": {
      "text/plain": [
       "OrderedDict([('loyalty/betrayal',\n",
       "              EffectSize(eta_bias=1.4827861161137434e-12, eta_intensity=2.832439144340171e-13)),\n",
       "             ('fairness/cheating',\n",
       "              EffectSize(eta_bias=9.26939081047351e-13, eta_intensity=2.946254351599009e-14)),\n",
       "             ('care/harm',\n",
       "              EffectSize(eta_bias=5.456052276642254e-13, eta_intensity=1.1034055613645677e-13)),\n",
       "             ('authority/subversion',\n",
       "              EffectSize(eta_bias=3.381184221495914e-13, eta_intensity=7.972095206199015e-14)),\n",
       "             ('sanctity/degradation',\n",
       "              EffectSize(eta_bias=2.278802146982173e-13, eta_intensity=6.956327874840795e-14))])"
      ]
     },
     "execution_count": 10,
     "metadata": {},
     "output_type": "execute_result"
    }
   ],
   "source": [
    "%%time\n",
    "fs.axes_ordered_by_effect_sizes(labelled_tweets[\"cleaned\"], num_bootstrap_samples=1)"
   ]
  },
  {
   "cell_type": "code",
   "execution_count": null,
   "metadata": {},
   "outputs": [],
   "source": [
    "%%time\n",
    "trans_df = fs.transform_df(labelled_tweets, \"cleaned\", model)\n",
    "trans_df  # output clear for privacy"
   ]
  },
  {
   "cell_type": "code",
   "execution_count": 14,
   "metadata": {},
   "outputs": [],
   "source": [
    "bias_cols = [col for col in labelled_tweets if col.endswith(\"_bias\")]\n",
    "intensity_cols = [col for col in labelled_tweets if col.endswith(\"_inte\")]\n",
    "moral_cols = bias_cols + intensity_cols"
   ]
  },
  {
   "cell_type": "code",
   "execution_count": 15,
   "metadata": {},
   "outputs": [],
   "source": [
    "cm = sns.light_palette(\"green\", as_cmap=True)\n",
    "\n",
    "groups = labelled_tweets.groupby(\"party\")[moral_cols]\n",
    "group_moral = groups.mean()"
   ]
  },
  {
   "cell_type": "code",
   "execution_count": 16,
   "metadata": {},
   "outputs": [
    {
     "name": "stdout",
     "output_type": "stream",
     "text": [
      "\\begin{tabular}{llrrrr}\n",
      "\\toprule\n",
      "     & party &     D &     I &     N &     R \\\\\n",
      "\\midrule\n",
      "\\multirow{5}{*}{Bias} & Care & 0.797 & 0.788 & 0.550 & 0.820 \\\\\n",
      "     & Fairness & 1.027 & 1.039 & 0.827 & 1.018 \\\\\n",
      "     & Loyalty & 1.348 & 1.415 & 1.108 & 1.338 \\\\\n",
      "     & Authority & 1.326 & 1.360 & 1.076 & 1.334 \\\\\n",
      "     & Sanctity & 0.600 & 0.571 & 0.463 & 0.626 \\\\\n",
      "\\cline{1-6}\n",
      "\\multirow{5}{*}{inte} & Care & 0.135 & 0.140 & 0.128 & 0.129 \\\\\n",
      "     & Fairness & 0.092 & 0.097 & 0.098 & 0.088 \\\\\n",
      "     & Loyalty & 0.130 & 0.131 & 0.133 & 0.128 \\\\\n",
      "     & Authority & 0.125 & 0.125 & 0.140 & 0.121 \\\\\n",
      "     & Sanctity & 0.069 & 0.072 & 0.070 & 0.070 \\\\\n",
      "\\bottomrule\n",
      "\\end{tabular}\n",
      "\n"
     ]
    }
   ],
   "source": [
    "latex_df = group_moral.transpose()\n",
    "latex_df.index = pd.MultiIndex.from_tuples(latex_df.index.str.split('_').tolist())\n",
    "latex_df = latex_df.swaplevel(0, 1, 0)\n",
    "latex_df = latex_df.rename(index={\n",
    "    \"care\": \"Care\",\n",
    "    \"fair\": \"Fairness\",\n",
    "    \"loya\": \"Loyalty\",\n",
    "    \"auth\": \"Authority\",\n",
    "    \"sanc\": \"Sanctity\",\n",
    "    \"bias\": \"Bias\",\n",
    "    \"intensity\": \"Intensity\"\n",
    "})\n",
    "latex_df = latex_df * 10  # for easier readability\n",
    "print(latex_df.to_latex(multirow=True, float_format=\"%.3f\"))"
   ]
  },
  {
   "cell_type": "code",
   "execution_count": 17,
   "metadata": {},
   "outputs": [
    {
     "data": {
      "text/html": [
       "<style  type=\"text/css\" >\n",
       "#T_1fc267de_3e11_11eb_9bf2_e41f13eb8183row0_col0{\n",
       "            background-color:  #138a13;\n",
       "            color:  #000000;\n",
       "        }#T_1fc267de_3e11_11eb_9bf2_e41f13eb8183row0_col1{\n",
       "            background-color:  #1b8f1b;\n",
       "            color:  #000000;\n",
       "        }#T_1fc267de_3e11_11eb_9bf2_e41f13eb8183row0_col2,#T_1fc267de_3e11_11eb_9bf2_e41f13eb8183row1_col2,#T_1fc267de_3e11_11eb_9bf2_e41f13eb8183row2_col2,#T_1fc267de_3e11_11eb_9bf2_e41f13eb8183row3_col2,#T_1fc267de_3e11_11eb_9bf2_e41f13eb8183row4_col2,#T_1fc267de_3e11_11eb_9bf2_e41f13eb8183row5_col2,#T_1fc267de_3e11_11eb_9bf2_e41f13eb8183row6_col3,#T_1fc267de_3e11_11eb_9bf2_e41f13eb8183row7_col3,#T_1fc267de_3e11_11eb_9bf2_e41f13eb8183row8_col3,#T_1fc267de_3e11_11eb_9bf2_e41f13eb8183row9_col0{\n",
       "            background-color:  #e5ffe5;\n",
       "            color:  #000000;\n",
       "        }#T_1fc267de_3e11_11eb_9bf2_e41f13eb8183row0_col3,#T_1fc267de_3e11_11eb_9bf2_e41f13eb8183row1_col1,#T_1fc267de_3e11_11eb_9bf2_e41f13eb8183row2_col1,#T_1fc267de_3e11_11eb_9bf2_e41f13eb8183row3_col1,#T_1fc267de_3e11_11eb_9bf2_e41f13eb8183row4_col3,#T_1fc267de_3e11_11eb_9bf2_e41f13eb8183row5_col1,#T_1fc267de_3e11_11eb_9bf2_e41f13eb8183row6_col2,#T_1fc267de_3e11_11eb_9bf2_e41f13eb8183row7_col2,#T_1fc267de_3e11_11eb_9bf2_e41f13eb8183row8_col2,#T_1fc267de_3e11_11eb_9bf2_e41f13eb8183row9_col1{\n",
       "            background-color:  #008000;\n",
       "            color:  #f1f1f1;\n",
       "        }#T_1fc267de_3e11_11eb_9bf2_e41f13eb8183row1_col0{\n",
       "            background-color:  #0d870d;\n",
       "            color:  #f1f1f1;\n",
       "        }#T_1fc267de_3e11_11eb_9bf2_e41f13eb8183row1_col3{\n",
       "            background-color:  #178c17;\n",
       "            color:  #000000;\n",
       "        }#T_1fc267de_3e11_11eb_9bf2_e41f13eb8183row2_col0{\n",
       "            background-color:  #319b31;\n",
       "            color:  #000000;\n",
       "        }#T_1fc267de_3e11_11eb_9bf2_e41f13eb8183row2_col3{\n",
       "            background-color:  #3aa03a;\n",
       "            color:  #000000;\n",
       "        }#T_1fc267de_3e11_11eb_9bf2_e41f13eb8183row3_col0{\n",
       "            background-color:  #1c8f1c;\n",
       "            color:  #000000;\n",
       "        }#T_1fc267de_3e11_11eb_9bf2_e41f13eb8183row3_col3{\n",
       "            background-color:  #158b15;\n",
       "            color:  #000000;\n",
       "        }#T_1fc267de_3e11_11eb_9bf2_e41f13eb8183row4_col0{\n",
       "            background-color:  #259425;\n",
       "            color:  #000000;\n",
       "        }#T_1fc267de_3e11_11eb_9bf2_e41f13eb8183row4_col1{\n",
       "            background-color:  #4dab4d;\n",
       "            color:  #000000;\n",
       "        }#T_1fc267de_3e11_11eb_9bf2_e41f13eb8183row5_col0{\n",
       "            background-color:  #56af56;\n",
       "            color:  #000000;\n",
       "        }#T_1fc267de_3e11_11eb_9bf2_e41f13eb8183row5_col3{\n",
       "            background-color:  #dffcdf;\n",
       "            color:  #000000;\n",
       "        }#T_1fc267de_3e11_11eb_9bf2_e41f13eb8183row6_col0{\n",
       "            background-color:  #92d192;\n",
       "            color:  #000000;\n",
       "        }#T_1fc267de_3e11_11eb_9bf2_e41f13eb8183row6_col1{\n",
       "            background-color:  #1a8e1a;\n",
       "            color:  #000000;\n",
       "        }#T_1fc267de_3e11_11eb_9bf2_e41f13eb8183row7_col0{\n",
       "            background-color:  #8acc8a;\n",
       "            color:  #000000;\n",
       "        }#T_1fc267de_3e11_11eb_9bf2_e41f13eb8183row7_col1{\n",
       "            background-color:  #74c074;\n",
       "            color:  #000000;\n",
       "        }#T_1fc267de_3e11_11eb_9bf2_e41f13eb8183row8_col0{\n",
       "            background-color:  #ade0ad;\n",
       "            color:  #000000;\n",
       "        }#T_1fc267de_3e11_11eb_9bf2_e41f13eb8183row8_col1{\n",
       "            background-color:  #abdfab;\n",
       "            color:  #000000;\n",
       "        }#T_1fc267de_3e11_11eb_9bf2_e41f13eb8183row9_col2{\n",
       "            background-color:  #9cd69c;\n",
       "            color:  #000000;\n",
       "        }#T_1fc267de_3e11_11eb_9bf2_e41f13eb8183row9_col3{\n",
       "            background-color:  #8fcf8f;\n",
       "            color:  #000000;\n",
       "        }</style><table id=\"T_1fc267de_3e11_11eb_9bf2_e41f13eb8183\" ><thead>    <tr>        <th class=\"blank\" ></th>        <th class=\"index_name level0\" >party</th>        <th class=\"col_heading level0 col0\" >D</th>        <th class=\"col_heading level0 col1\" >I</th>        <th class=\"col_heading level0 col2\" >N</th>        <th class=\"col_heading level0 col3\" >R</th>    </tr></thead><tbody>\n",
       "                <tr>\n",
       "                        <th id=\"T_1fc267de_3e11_11eb_9bf2_e41f13eb8183level0_row0\" class=\"row_heading level0 row0\" rowspan=5>Bias</th>\n",
       "                        <th id=\"T_1fc267de_3e11_11eb_9bf2_e41f13eb8183level1_row0\" class=\"row_heading level1 row0\" >Care</th>\n",
       "                        <td id=\"T_1fc267de_3e11_11eb_9bf2_e41f13eb8183row0_col0\" class=\"data row0 col0\" >0.797016</td>\n",
       "                        <td id=\"T_1fc267de_3e11_11eb_9bf2_e41f13eb8183row0_col1\" class=\"data row0 col1\" >0.787642</td>\n",
       "                        <td id=\"T_1fc267de_3e11_11eb_9bf2_e41f13eb8183row0_col2\" class=\"data row0 col2\" >0.549698</td>\n",
       "                        <td id=\"T_1fc267de_3e11_11eb_9bf2_e41f13eb8183row0_col3\" class=\"data row0 col3\" >0.819540</td>\n",
       "            </tr>\n",
       "            <tr>\n",
       "                                <th id=\"T_1fc267de_3e11_11eb_9bf2_e41f13eb8183level1_row1\" class=\"row_heading level1 row1\" >Fairness</th>\n",
       "                        <td id=\"T_1fc267de_3e11_11eb_9bf2_e41f13eb8183row1_col0\" class=\"data row1 col0\" >1.026634</td>\n",
       "                        <td id=\"T_1fc267de_3e11_11eb_9bf2_e41f13eb8183row1_col1\" class=\"data row1 col1\" >1.038833</td>\n",
       "                        <td id=\"T_1fc267de_3e11_11eb_9bf2_e41f13eb8183row1_col2\" class=\"data row1 col2\" >0.827490</td>\n",
       "                        <td id=\"T_1fc267de_3e11_11eb_9bf2_e41f13eb8183row1_col3\" class=\"data row1 col3\" >1.017941</td>\n",
       "            </tr>\n",
       "            <tr>\n",
       "                                <th id=\"T_1fc267de_3e11_11eb_9bf2_e41f13eb8183level1_row2\" class=\"row_heading level1 row2\" >Loyalty</th>\n",
       "                        <td id=\"T_1fc267de_3e11_11eb_9bf2_e41f13eb8183row2_col0\" class=\"data row2 col0\" >1.348005</td>\n",
       "                        <td id=\"T_1fc267de_3e11_11eb_9bf2_e41f13eb8183row2_col1\" class=\"data row2 col1\" >1.414716</td>\n",
       "                        <td id=\"T_1fc267de_3e11_11eb_9bf2_e41f13eb8183row2_col2\" class=\"data row2 col2\" >1.107884</td>\n",
       "                        <td id=\"T_1fc267de_3e11_11eb_9bf2_e41f13eb8183row2_col3\" class=\"data row2 col3\" >1.337632</td>\n",
       "            </tr>\n",
       "            <tr>\n",
       "                                <th id=\"T_1fc267de_3e11_11eb_9bf2_e41f13eb8183level1_row3\" class=\"row_heading level1 row3\" >Authority</th>\n",
       "                        <td id=\"T_1fc267de_3e11_11eb_9bf2_e41f13eb8183row3_col0\" class=\"data row3 col0\" >1.325720</td>\n",
       "                        <td id=\"T_1fc267de_3e11_11eb_9bf2_e41f13eb8183row3_col1\" class=\"data row3 col1\" >1.360304</td>\n",
       "                        <td id=\"T_1fc267de_3e11_11eb_9bf2_e41f13eb8183row3_col2\" class=\"data row3 col2\" >1.075917</td>\n",
       "                        <td id=\"T_1fc267de_3e11_11eb_9bf2_e41f13eb8183row3_col3\" class=\"data row3 col3\" >1.334266</td>\n",
       "            </tr>\n",
       "            <tr>\n",
       "                                <th id=\"T_1fc267de_3e11_11eb_9bf2_e41f13eb8183level1_row4\" class=\"row_heading level1 row4\" >Sanctity</th>\n",
       "                        <td id=\"T_1fc267de_3e11_11eb_9bf2_e41f13eb8183row4_col0\" class=\"data row4 col0\" >0.599840</td>\n",
       "                        <td id=\"T_1fc267de_3e11_11eb_9bf2_e41f13eb8183row4_col1\" class=\"data row4 col1\" >0.571442</td>\n",
       "                        <td id=\"T_1fc267de_3e11_11eb_9bf2_e41f13eb8183row4_col2\" class=\"data row4 col2\" >0.462773</td>\n",
       "                        <td id=\"T_1fc267de_3e11_11eb_9bf2_e41f13eb8183row4_col3\" class=\"data row4 col3\" >0.626465</td>\n",
       "            </tr>\n",
       "            <tr>\n",
       "                        <th id=\"T_1fc267de_3e11_11eb_9bf2_e41f13eb8183level0_row5\" class=\"row_heading level0 row5\" rowspan=5>inte</th>\n",
       "                        <th id=\"T_1fc267de_3e11_11eb_9bf2_e41f13eb8183level1_row5\" class=\"row_heading level1 row5\" >Care</th>\n",
       "                        <td id=\"T_1fc267de_3e11_11eb_9bf2_e41f13eb8183row5_col0\" class=\"data row5 col0\" >0.135346</td>\n",
       "                        <td id=\"T_1fc267de_3e11_11eb_9bf2_e41f13eb8183row5_col1\" class=\"data row5 col1\" >0.139546</td>\n",
       "                        <td id=\"T_1fc267de_3e11_11eb_9bf2_e41f13eb8183row5_col2\" class=\"data row5 col2\" >0.128285</td>\n",
       "                        <td id=\"T_1fc267de_3e11_11eb_9bf2_e41f13eb8183row5_col3\" class=\"data row5 col3\" >0.128637</td>\n",
       "            </tr>\n",
       "            <tr>\n",
       "                                <th id=\"T_1fc267de_3e11_11eb_9bf2_e41f13eb8183level1_row6\" class=\"row_heading level1 row6\" >Fairness</th>\n",
       "                        <td id=\"T_1fc267de_3e11_11eb_9bf2_e41f13eb8183row6_col0\" class=\"data row6 col0\" >0.091836</td>\n",
       "                        <td id=\"T_1fc267de_3e11_11eb_9bf2_e41f13eb8183row6_col1\" class=\"data row6 col1\" >0.096789</td>\n",
       "                        <td id=\"T_1fc267de_3e11_11eb_9bf2_e41f13eb8183row6_col2\" class=\"data row6 col2\" >0.097892</td>\n",
       "                        <td id=\"T_1fc267de_3e11_11eb_9bf2_e41f13eb8183row6_col3\" class=\"data row6 col3\" >0.088352</td>\n",
       "            </tr>\n",
       "            <tr>\n",
       "                                <th id=\"T_1fc267de_3e11_11eb_9bf2_e41f13eb8183level1_row7\" class=\"row_heading level1 row7\" >Loyalty</th>\n",
       "                        <td id=\"T_1fc267de_3e11_11eb_9bf2_e41f13eb8183row7_col0\" class=\"data row7 col0\" >0.130184</td>\n",
       "                        <td id=\"T_1fc267de_3e11_11eb_9bf2_e41f13eb8183row7_col1\" class=\"data row7 col1\" >0.130614</td>\n",
       "                        <td id=\"T_1fc267de_3e11_11eb_9bf2_e41f13eb8183row7_col2\" class=\"data row7 col2\" >0.132994</td>\n",
       "                        <td id=\"T_1fc267de_3e11_11eb_9bf2_e41f13eb8183row7_col3\" class=\"data row7 col3\" >0.128293</td>\n",
       "            </tr>\n",
       "            <tr>\n",
       "                                <th id=\"T_1fc267de_3e11_11eb_9bf2_e41f13eb8183level1_row8\" class=\"row_heading level1 row8\" >Authority</th>\n",
       "                        <td id=\"T_1fc267de_3e11_11eb_9bf2_e41f13eb8183row8_col0\" class=\"data row8 col0\" >0.125357</td>\n",
       "                        <td id=\"T_1fc267de_3e11_11eb_9bf2_e41f13eb8183row8_col1\" class=\"data row8 col1\" >0.125491</td>\n",
       "                        <td id=\"T_1fc267de_3e11_11eb_9bf2_e41f13eb8183row8_col2\" class=\"data row8 col2\" >0.139530</td>\n",
       "                        <td id=\"T_1fc267de_3e11_11eb_9bf2_e41f13eb8183row8_col3\" class=\"data row8 col3\" >0.120704</td>\n",
       "            </tr>\n",
       "            <tr>\n",
       "                                <th id=\"T_1fc267de_3e11_11eb_9bf2_e41f13eb8183level1_row9\" class=\"row_heading level1 row9\" >Sanctity</th>\n",
       "                        <td id=\"T_1fc267de_3e11_11eb_9bf2_e41f13eb8183row9_col0\" class=\"data row9 col0\" >0.069435</td>\n",
       "                        <td id=\"T_1fc267de_3e11_11eb_9bf2_e41f13eb8183row9_col1\" class=\"data row9 col1\" >0.072194</td>\n",
       "                        <td id=\"T_1fc267de_3e11_11eb_9bf2_e41f13eb8183row9_col2\" class=\"data row9 col2\" >0.070322</td>\n",
       "                        <td id=\"T_1fc267de_3e11_11eb_9bf2_e41f13eb8183row9_col3\" class=\"data row9 col3\" >0.070475</td>\n",
       "            </tr>\n",
       "    </tbody></table>"
      ],
      "text/plain": [
       "<pandas.io.formats.style.Styler at 0x7f9537a13c70>"
      ]
     },
     "execution_count": 17,
     "metadata": {},
     "output_type": "execute_result"
    }
   ],
   "source": [
    "latex_df.style.background_gradient(cmap=cm, axis=1)"
   ]
  },
  {
   "cell_type": "markdown",
   "metadata": {},
   "source": [
    "# Classification"
   ]
  },
  {
   "cell_type": "code",
   "execution_count": 18,
   "metadata": {},
   "outputs": [],
   "source": [
    "y_label = \"party\""
   ]
  },
  {
   "cell_type": "code",
   "execution_count": 19,
   "metadata": {},
   "outputs": [],
   "source": [
    "bias_cols = [col for col in labelled_tweets if col.endswith(\"_bias\")]\n",
    "intensity_cols = [col for col in labelled_tweets if col.endswith(\"_inte\")]\n",
    "moral_cols = bias_cols + intensity_cols"
   ]
  },
  {
   "cell_type": "code",
   "execution_count": 20,
   "metadata": {},
   "outputs": [
    {
     "name": "stdout",
     "output_type": "stream",
     "text": [
      "(1439000, 10)\n",
      "(1439000, 1)\n"
     ]
    },
    {
     "data": {
      "text/plain": [
       "array([[0.14281115531921387, 0.08430562019348145, 0.130345356464386, ...,\n",
       "        0.007425813376903534, 0.019551602005958558, 'R'],\n",
       "       [0.09149552881717682, 0.11361437290906906, 0.14533887803554535,\n",
       "        ..., 0.011606198735535145, 0.009537599049508572, 'R'],\n",
       "       [0.08008612337566558, 0.048064867655436196, 0.11717059498741514,\n",
       "        ..., 0.007243632560684567, 0.004354695833864666, 'R'],\n",
       "       ...,\n",
       "       [0.09520983695983887, 0.1262257628970676, 0.1461369726392958, ...,\n",
       "        0.0028629211915863883, 0.009111358059777154, 'N'],\n",
       "       [0.07717092335224152, 0.07945317775011063, 0.08746727555990219,\n",
       "        ..., 0.019387369975447655, 0.01059896033257246, 'N'],\n",
       "       [0.02272539585828781, -0.009635661418239275, 0.0333074281613032,\n",
       "        ..., 0.05065882205963135, 0.0167401023209095, 'N']], dtype=object)"
      ]
     },
     "execution_count": 20,
     "metadata": {},
     "output_type": "execute_result"
    }
   ],
   "source": [
    "Y = labelled_tweets[y_label].values\n",
    "X = labelled_tweets[moral_cols].values\n",
    "print(X.shape)\n",
    "print(np.expand_dims(Y, axis=1).shape)\n",
    "np.concatenate([X, np.expand_dims(Y, axis=1)], axis=1)"
   ]
  },
  {
   "cell_type": "code",
   "execution_count": 21,
   "metadata": {},
   "outputs": [
    {
     "name": "stderr",
     "output_type": "stream",
     "text": [
      "/home/mreiterhaas/miniconda3/envs/polarice/lib/python3.8/site-packages/sklearn/metrics/_classification.py:1221: UndefinedMetricWarning: Precision and F-score are ill-defined and being set to 0.0 in labels with no predicted samples. Use `zero_division` parameter to control this behavior.\n",
      "  _warn_prf(average, modifier, msg_start, len(result))\n"
     ]
    },
    {
     "data": {
      "text/plain": [
       "{'D': {'precision': 0.5183841706918191,\n",
       "  'recall': 0.6193919632814896,\n",
       "  'f1-score': 0.5644045074096887,\n",
       "  'support': 176042},\n",
       " 'I': {'precision': 0.0, 'recall': 0.0, 'f1-score': 0.0, 'support': 1606},\n",
       " 'N': {'precision': 0.2857142857142857,\n",
       "  'recall': 0.00017678776628657296,\n",
       "  'f1-score': 0.000353356890459364,\n",
       "  'support': 11313},\n",
       " 'R': {'precision': 0.5188789750935414,\n",
       "  'recall': 0.45389340062884614,\n",
       "  'f1-score': 0.48421552338001417,\n",
       "  'support': 170789},\n",
       " 'accuracy': 0.5185851285615011,\n",
       " 'macro avg': {'precision': 0.3307443578749115,\n",
       "  'recall': 0.2683655379191556,\n",
       "  'f1-score': 0.2622433469200406,\n",
       "  'support': 359750},\n",
       " 'weighted avg': {'precision': 0.5089881672507734,\n",
       "  'recall': 0.5185851285615011,\n",
       "  'f1-score': 0.5060780565461221,\n",
       "  'support': 359750}}"
      ]
     },
     "execution_count": 21,
     "metadata": {},
     "output_type": "execute_result"
    }
   ],
   "source": [
    "from sklearn.linear_model import LogisticRegression\n",
    "from sklearn.tree import DecisionTreeClassifier\n",
    "from sklearn.ensemble import RandomForestClassifier\n",
    "from sklearn.model_selection import train_test_split\n",
    "from sklearn.metrics import classification_report\n",
    "\n",
    "X_train, X_test, Y_train, Y_test = train_test_split(X, Y, test_size=0.25, shuffle=True)\n",
    "classifier = LogisticRegression(max_iter=1000).fit(X_train, Y_train)\n",
    "    \n",
    "Y_pred = classifier.predict(X_test)\n",
    "classification_report(Y_test, Y_pred, output_dict=True)"
   ]
  },
  {
   "cell_type": "code",
   "execution_count": 22,
   "metadata": {},
   "outputs": [
    {
     "name": "stdout",
     "output_type": "stream",
     "text": [
      "              precision    recall  f1-score   support\n",
      "\n",
      "           D       0.52      0.62      0.56    176042\n",
      "           I       0.00      0.00      0.00      1606\n",
      "           N       0.29      0.00      0.00     11313\n",
      "           R       0.52      0.45      0.48    170789\n",
      "\n",
      "    accuracy                           0.52    359750\n",
      "   macro avg       0.33      0.27      0.26    359750\n",
      "weighted avg       0.51      0.52      0.51    359750\n",
      "\n"
     ]
    }
   ],
   "source": [
    "print(classification_report(Y_test, Y_pred))"
   ]
  },
  {
   "cell_type": "code",
   "execution_count": 23,
   "metadata": {},
   "outputs": [
    {
     "data": {
      "text/plain": [
       "array([[  2.50547372,   2.13025162,  -1.41860336,  -0.38525283,\n",
       "          0.47588155,   9.70061958,   4.3764928 ,   0.16605908,\n",
       "         -3.45261164,  -2.96672476],\n",
       "       [ -3.12643055,  -0.38925235,   5.48425757,   1.88795337,\n",
       "         -1.13351253,   3.59891956,   2.23980598,   1.33972484,\n",
       "          1.46967455,   1.56627523],\n",
       "       [ -3.17026594,  -2.8563516 ,   1.20310499,  -3.84529816,\n",
       "         -1.44435412, -12.66386288,   1.53746855, -11.46213757,\n",
       "          8.31207326,  -1.86050521],\n",
       "       [  3.79122277,   1.11535233,  -5.26875921,   2.34259763,\n",
       "          2.1019851 ,  -0.63567627,  -8.15376734,   9.95635365,\n",
       "         -6.32913617,   3.26095474]])"
      ]
     },
     "execution_count": 23,
     "metadata": {},
     "output_type": "execute_result"
    }
   ],
   "source": [
    "classifier.coef_"
   ]
  },
  {
   "cell_type": "code",
   "execution_count": 46,
   "metadata": {},
   "outputs": [
    {
     "name": "stdout",
     "output_type": "stream",
     "text": [
      "\\begin{tabular}{lrrrrrrrrrr}\n",
      "\\toprule\n",
      "{} &  care\\_bias &  fair\\_bias &  loya\\_bias &  auth\\_bias &  sanc\\_bias &  care\\_inte &  fair\\_inte &  loya\\_inte &  auth\\_inte &  sanc\\_inte \\\\\n",
      "\\midrule\n",
      "D &   2.505474 &   2.130252 &  -1.418603 &  -0.385253 &   0.475882 &   9.700620 &   4.376493 &   0.166059 &  -3.452612 &  -2.966725 \\\\\n",
      "I &  -3.126431 &  -0.389252 &   5.484258 &   1.887953 &  -1.133513 &   3.598920 &   2.239806 &   1.339725 &   1.469675 &   1.566275 \\\\\n",
      "N &  -3.170266 &  -2.856352 &   1.203105 &  -3.845298 &  -1.444354 & -12.663863 &   1.537469 & -11.462138 &   8.312073 &  -1.860505 \\\\\n",
      "R &   3.791223 &   1.115352 &  -5.268759 &   2.342598 &   2.101985 &  -0.635676 &  -8.153767 &   9.956354 &  -6.329136 &   3.260955 \\\\\n",
      "\\bottomrule\n",
      "\\end{tabular}\n",
      "\n"
     ]
    },
    {
     "data": {
      "text/html": [
       "<div>\n",
       "<style scoped>\n",
       "    .dataframe tbody tr th:only-of-type {\n",
       "        vertical-align: middle;\n",
       "    }\n",
       "\n",
       "    .dataframe tbody tr th {\n",
       "        vertical-align: top;\n",
       "    }\n",
       "\n",
       "    .dataframe thead th {\n",
       "        text-align: right;\n",
       "    }\n",
       "</style>\n",
       "<table border=\"1\" class=\"dataframe\">\n",
       "  <thead>\n",
       "    <tr style=\"text-align: right;\">\n",
       "      <th></th>\n",
       "      <th>care_bias</th>\n",
       "      <th>fair_bias</th>\n",
       "      <th>loya_bias</th>\n",
       "      <th>auth_bias</th>\n",
       "      <th>sanc_bias</th>\n",
       "      <th>care_inte</th>\n",
       "      <th>fair_inte</th>\n",
       "      <th>loya_inte</th>\n",
       "      <th>auth_inte</th>\n",
       "      <th>sanc_inte</th>\n",
       "    </tr>\n",
       "  </thead>\n",
       "  <tbody>\n",
       "    <tr>\n",
       "      <th>D</th>\n",
       "      <td>2.505474</td>\n",
       "      <td>2.130252</td>\n",
       "      <td>-1.418603</td>\n",
       "      <td>-0.385253</td>\n",
       "      <td>0.475882</td>\n",
       "      <td>9.700620</td>\n",
       "      <td>4.376493</td>\n",
       "      <td>0.166059</td>\n",
       "      <td>-3.452612</td>\n",
       "      <td>-2.966725</td>\n",
       "    </tr>\n",
       "    <tr>\n",
       "      <th>I</th>\n",
       "      <td>-3.126431</td>\n",
       "      <td>-0.389252</td>\n",
       "      <td>5.484258</td>\n",
       "      <td>1.887953</td>\n",
       "      <td>-1.133513</td>\n",
       "      <td>3.598920</td>\n",
       "      <td>2.239806</td>\n",
       "      <td>1.339725</td>\n",
       "      <td>1.469675</td>\n",
       "      <td>1.566275</td>\n",
       "    </tr>\n",
       "    <tr>\n",
       "      <th>N</th>\n",
       "      <td>-3.170266</td>\n",
       "      <td>-2.856352</td>\n",
       "      <td>1.203105</td>\n",
       "      <td>-3.845298</td>\n",
       "      <td>-1.444354</td>\n",
       "      <td>-12.663863</td>\n",
       "      <td>1.537469</td>\n",
       "      <td>-11.462138</td>\n",
       "      <td>8.312073</td>\n",
       "      <td>-1.860505</td>\n",
       "    </tr>\n",
       "    <tr>\n",
       "      <th>R</th>\n",
       "      <td>3.791223</td>\n",
       "      <td>1.115352</td>\n",
       "      <td>-5.268759</td>\n",
       "      <td>2.342598</td>\n",
       "      <td>2.101985</td>\n",
       "      <td>-0.635676</td>\n",
       "      <td>-8.153767</td>\n",
       "      <td>9.956354</td>\n",
       "      <td>-6.329136</td>\n",
       "      <td>3.260955</td>\n",
       "    </tr>\n",
       "  </tbody>\n",
       "</table>\n",
       "</div>"
      ],
      "text/plain": [
       "   care_bias  fair_bias  loya_bias  auth_bias  sanc_bias  care_inte  \\\n",
       "D   2.505474   2.130252  -1.418603  -0.385253   0.475882   9.700620   \n",
       "I  -3.126431  -0.389252   5.484258   1.887953  -1.133513   3.598920   \n",
       "N  -3.170266  -2.856352   1.203105  -3.845298  -1.444354 -12.663863   \n",
       "R   3.791223   1.115352  -5.268759   2.342598   2.101985  -0.635676   \n",
       "\n",
       "   fair_inte  loya_inte  auth_inte  sanc_inte  \n",
       "D   4.376493   0.166059  -3.452612  -2.966725  \n",
       "I   2.239806   1.339725   1.469675   1.566275  \n",
       "N   1.537469 -11.462138   8.312073  -1.860505  \n",
       "R  -8.153767   9.956354  -6.329136   3.260955  "
      ]
     },
     "execution_count": 46,
     "metadata": {},
     "output_type": "execute_result"
    }
   ],
   "source": [
    "coef_df = pd.DataFrame.from_records(classifier.coef_, index=classifier.classes_, columns=moral_cols)\n",
    "print(coef_df.to_latex())\n",
    "coef_df"
   ]
  },
  {
   "cell_type": "code",
   "execution_count": 24,
   "metadata": {},
   "outputs": [
    {
     "data": {
      "text/html": [
       "<div>\n",
       "<style scoped>\n",
       "    .dataframe tbody tr th:only-of-type {\n",
       "        vertical-align: middle;\n",
       "    }\n",
       "\n",
       "    .dataframe tbody tr th {\n",
       "        vertical-align: top;\n",
       "    }\n",
       "\n",
       "    .dataframe thead th {\n",
       "        text-align: right;\n",
       "    }\n",
       "</style>\n",
       "<table border=\"1\" class=\"dataframe\">\n",
       "  <thead>\n",
       "    <tr style=\"text-align: right;\">\n",
       "      <th></th>\n",
       "      <th>handle</th>\n",
       "      <th>coef</th>\n",
       "      <th>moral</th>\n",
       "      <th>bias/inte</th>\n",
       "    </tr>\n",
       "  </thead>\n",
       "  <tbody>\n",
       "    <tr>\n",
       "      <th>0</th>\n",
       "      <td>D</td>\n",
       "      <td>2.505474</td>\n",
       "      <td>care</td>\n",
       "      <td>bias</td>\n",
       "    </tr>\n",
       "    <tr>\n",
       "      <th>1</th>\n",
       "      <td>D</td>\n",
       "      <td>2.130252</td>\n",
       "      <td>fair</td>\n",
       "      <td>bias</td>\n",
       "    </tr>\n",
       "    <tr>\n",
       "      <th>2</th>\n",
       "      <td>D</td>\n",
       "      <td>-1.418603</td>\n",
       "      <td>loya</td>\n",
       "      <td>bias</td>\n",
       "    </tr>\n",
       "    <tr>\n",
       "      <th>3</th>\n",
       "      <td>D</td>\n",
       "      <td>-0.385253</td>\n",
       "      <td>auth</td>\n",
       "      <td>bias</td>\n",
       "    </tr>\n",
       "    <tr>\n",
       "      <th>4</th>\n",
       "      <td>D</td>\n",
       "      <td>0.475882</td>\n",
       "      <td>sanc</td>\n",
       "      <td>bias</td>\n",
       "    </tr>\n",
       "    <tr>\n",
       "      <th>5</th>\n",
       "      <td>D</td>\n",
       "      <td>9.700620</td>\n",
       "      <td>care</td>\n",
       "      <td>inte</td>\n",
       "    </tr>\n",
       "    <tr>\n",
       "      <th>6</th>\n",
       "      <td>D</td>\n",
       "      <td>4.376493</td>\n",
       "      <td>fair</td>\n",
       "      <td>inte</td>\n",
       "    </tr>\n",
       "    <tr>\n",
       "      <th>7</th>\n",
       "      <td>D</td>\n",
       "      <td>0.166059</td>\n",
       "      <td>loya</td>\n",
       "      <td>inte</td>\n",
       "    </tr>\n",
       "    <tr>\n",
       "      <th>8</th>\n",
       "      <td>D</td>\n",
       "      <td>-3.452612</td>\n",
       "      <td>auth</td>\n",
       "      <td>inte</td>\n",
       "    </tr>\n",
       "    <tr>\n",
       "      <th>9</th>\n",
       "      <td>D</td>\n",
       "      <td>-2.966725</td>\n",
       "      <td>sanc</td>\n",
       "      <td>inte</td>\n",
       "    </tr>\n",
       "    <tr>\n",
       "      <th>10</th>\n",
       "      <td>I</td>\n",
       "      <td>-3.126431</td>\n",
       "      <td>care</td>\n",
       "      <td>bias</td>\n",
       "    </tr>\n",
       "    <tr>\n",
       "      <th>11</th>\n",
       "      <td>I</td>\n",
       "      <td>-0.389252</td>\n",
       "      <td>fair</td>\n",
       "      <td>bias</td>\n",
       "    </tr>\n",
       "    <tr>\n",
       "      <th>12</th>\n",
       "      <td>I</td>\n",
       "      <td>5.484258</td>\n",
       "      <td>loya</td>\n",
       "      <td>bias</td>\n",
       "    </tr>\n",
       "    <tr>\n",
       "      <th>13</th>\n",
       "      <td>I</td>\n",
       "      <td>1.887953</td>\n",
       "      <td>auth</td>\n",
       "      <td>bias</td>\n",
       "    </tr>\n",
       "    <tr>\n",
       "      <th>14</th>\n",
       "      <td>I</td>\n",
       "      <td>-1.133513</td>\n",
       "      <td>sanc</td>\n",
       "      <td>bias</td>\n",
       "    </tr>\n",
       "    <tr>\n",
       "      <th>15</th>\n",
       "      <td>I</td>\n",
       "      <td>3.598920</td>\n",
       "      <td>care</td>\n",
       "      <td>inte</td>\n",
       "    </tr>\n",
       "    <tr>\n",
       "      <th>16</th>\n",
       "      <td>I</td>\n",
       "      <td>2.239806</td>\n",
       "      <td>fair</td>\n",
       "      <td>inte</td>\n",
       "    </tr>\n",
       "    <tr>\n",
       "      <th>17</th>\n",
       "      <td>I</td>\n",
       "      <td>1.339725</td>\n",
       "      <td>loya</td>\n",
       "      <td>inte</td>\n",
       "    </tr>\n",
       "    <tr>\n",
       "      <th>18</th>\n",
       "      <td>I</td>\n",
       "      <td>1.469675</td>\n",
       "      <td>auth</td>\n",
       "      <td>inte</td>\n",
       "    </tr>\n",
       "    <tr>\n",
       "      <th>19</th>\n",
       "      <td>I</td>\n",
       "      <td>1.566275</td>\n",
       "      <td>sanc</td>\n",
       "      <td>inte</td>\n",
       "    </tr>\n",
       "    <tr>\n",
       "      <th>20</th>\n",
       "      <td>N</td>\n",
       "      <td>-3.170266</td>\n",
       "      <td>care</td>\n",
       "      <td>bias</td>\n",
       "    </tr>\n",
       "    <tr>\n",
       "      <th>21</th>\n",
       "      <td>N</td>\n",
       "      <td>-2.856352</td>\n",
       "      <td>fair</td>\n",
       "      <td>bias</td>\n",
       "    </tr>\n",
       "    <tr>\n",
       "      <th>22</th>\n",
       "      <td>N</td>\n",
       "      <td>1.203105</td>\n",
       "      <td>loya</td>\n",
       "      <td>bias</td>\n",
       "    </tr>\n",
       "    <tr>\n",
       "      <th>23</th>\n",
       "      <td>N</td>\n",
       "      <td>-3.845298</td>\n",
       "      <td>auth</td>\n",
       "      <td>bias</td>\n",
       "    </tr>\n",
       "    <tr>\n",
       "      <th>24</th>\n",
       "      <td>N</td>\n",
       "      <td>-1.444354</td>\n",
       "      <td>sanc</td>\n",
       "      <td>bias</td>\n",
       "    </tr>\n",
       "    <tr>\n",
       "      <th>25</th>\n",
       "      <td>N</td>\n",
       "      <td>-12.663863</td>\n",
       "      <td>care</td>\n",
       "      <td>inte</td>\n",
       "    </tr>\n",
       "    <tr>\n",
       "      <th>26</th>\n",
       "      <td>N</td>\n",
       "      <td>1.537469</td>\n",
       "      <td>fair</td>\n",
       "      <td>inte</td>\n",
       "    </tr>\n",
       "    <tr>\n",
       "      <th>27</th>\n",
       "      <td>N</td>\n",
       "      <td>-11.462138</td>\n",
       "      <td>loya</td>\n",
       "      <td>inte</td>\n",
       "    </tr>\n",
       "    <tr>\n",
       "      <th>28</th>\n",
       "      <td>N</td>\n",
       "      <td>8.312073</td>\n",
       "      <td>auth</td>\n",
       "      <td>inte</td>\n",
       "    </tr>\n",
       "    <tr>\n",
       "      <th>29</th>\n",
       "      <td>N</td>\n",
       "      <td>-1.860505</td>\n",
       "      <td>sanc</td>\n",
       "      <td>inte</td>\n",
       "    </tr>\n",
       "    <tr>\n",
       "      <th>30</th>\n",
       "      <td>R</td>\n",
       "      <td>3.791223</td>\n",
       "      <td>care</td>\n",
       "      <td>bias</td>\n",
       "    </tr>\n",
       "    <tr>\n",
       "      <th>31</th>\n",
       "      <td>R</td>\n",
       "      <td>1.115352</td>\n",
       "      <td>fair</td>\n",
       "      <td>bias</td>\n",
       "    </tr>\n",
       "    <tr>\n",
       "      <th>32</th>\n",
       "      <td>R</td>\n",
       "      <td>-5.268759</td>\n",
       "      <td>loya</td>\n",
       "      <td>bias</td>\n",
       "    </tr>\n",
       "    <tr>\n",
       "      <th>33</th>\n",
       "      <td>R</td>\n",
       "      <td>2.342598</td>\n",
       "      <td>auth</td>\n",
       "      <td>bias</td>\n",
       "    </tr>\n",
       "    <tr>\n",
       "      <th>34</th>\n",
       "      <td>R</td>\n",
       "      <td>2.101985</td>\n",
       "      <td>sanc</td>\n",
       "      <td>bias</td>\n",
       "    </tr>\n",
       "    <tr>\n",
       "      <th>35</th>\n",
       "      <td>R</td>\n",
       "      <td>-0.635676</td>\n",
       "      <td>care</td>\n",
       "      <td>inte</td>\n",
       "    </tr>\n",
       "    <tr>\n",
       "      <th>36</th>\n",
       "      <td>R</td>\n",
       "      <td>-8.153767</td>\n",
       "      <td>fair</td>\n",
       "      <td>inte</td>\n",
       "    </tr>\n",
       "    <tr>\n",
       "      <th>37</th>\n",
       "      <td>R</td>\n",
       "      <td>9.956354</td>\n",
       "      <td>loya</td>\n",
       "      <td>inte</td>\n",
       "    </tr>\n",
       "    <tr>\n",
       "      <th>38</th>\n",
       "      <td>R</td>\n",
       "      <td>-6.329136</td>\n",
       "      <td>auth</td>\n",
       "      <td>inte</td>\n",
       "    </tr>\n",
       "    <tr>\n",
       "      <th>39</th>\n",
       "      <td>R</td>\n",
       "      <td>3.260955</td>\n",
       "      <td>sanc</td>\n",
       "      <td>inte</td>\n",
       "    </tr>\n",
       "  </tbody>\n",
       "</table>\n",
       "</div>"
      ],
      "text/plain": [
       "   handle       coef moral bias/inte\n",
       "0       D   2.505474  care      bias\n",
       "1       D   2.130252  fair      bias\n",
       "2       D  -1.418603  loya      bias\n",
       "3       D  -0.385253  auth      bias\n",
       "4       D   0.475882  sanc      bias\n",
       "5       D   9.700620  care      inte\n",
       "6       D   4.376493  fair      inte\n",
       "7       D   0.166059  loya      inte\n",
       "8       D  -3.452612  auth      inte\n",
       "9       D  -2.966725  sanc      inte\n",
       "10      I  -3.126431  care      bias\n",
       "11      I  -0.389252  fair      bias\n",
       "12      I   5.484258  loya      bias\n",
       "13      I   1.887953  auth      bias\n",
       "14      I  -1.133513  sanc      bias\n",
       "15      I   3.598920  care      inte\n",
       "16      I   2.239806  fair      inte\n",
       "17      I   1.339725  loya      inte\n",
       "18      I   1.469675  auth      inte\n",
       "19      I   1.566275  sanc      inte\n",
       "20      N  -3.170266  care      bias\n",
       "21      N  -2.856352  fair      bias\n",
       "22      N   1.203105  loya      bias\n",
       "23      N  -3.845298  auth      bias\n",
       "24      N  -1.444354  sanc      bias\n",
       "25      N -12.663863  care      inte\n",
       "26      N   1.537469  fair      inte\n",
       "27      N -11.462138  loya      inte\n",
       "28      N   8.312073  auth      inte\n",
       "29      N  -1.860505  sanc      inte\n",
       "30      R   3.791223  care      bias\n",
       "31      R   1.115352  fair      bias\n",
       "32      R  -5.268759  loya      bias\n",
       "33      R   2.342598  auth      bias\n",
       "34      R   2.101985  sanc      bias\n",
       "35      R  -0.635676  care      inte\n",
       "36      R  -8.153767  fair      inte\n",
       "37      R   9.956354  loya      inte\n",
       "38      R  -6.329136  auth      inte\n",
       "39      R   3.260955  sanc      inte"
      ]
     },
     "execution_count": 24,
     "metadata": {},
     "output_type": "execute_result"
    }
   ],
   "source": [
    "coef_df = coef_df.stack().to_frame().reset_index()\n",
    "coef_df[[\"moral\", \"bias/inte\"]] = coef_df[\"level_1\"].str.split(\"_\", expand=True)\n",
    "coef_df = coef_df.drop(columns=[\"level_1\"])\n",
    "coef_df = coef_df.rename(columns={\"level_0\": \"handle\", 0: \"coef\"})\n",
    "coef_df"
   ]
  },
  {
   "cell_type": "code",
   "execution_count": 25,
   "metadata": {},
   "outputs": [
    {
     "data": {
      "text/plain": [
       "<AxesSubplot:xlabel='moral', ylabel='coef'>"
      ]
     },
     "execution_count": 25,
     "metadata": {},
     "output_type": "execute_result"
    },
    {
     "data": {
      "image/png": "[encoded data removed]",
      "text/plain": [
       "<Figure size 432x288 with 1 Axes>"
      ]
     },
     "metadata": {
      "needs_background": "light"
     },
     "output_type": "display_data"
    }
   ],
   "source": [
    "bias_df = coef_df[coef_df[\"bias/inte\"] == \"bias\"]\n",
    "sns.pointplot(data=bias_df, x=\"moral\", y=\"coef\", hue=\"handle\")"
   ]
  },
  {
   "cell_type": "code",
   "execution_count": 26,
   "metadata": {},
   "outputs": [
    {
     "data": {
      "text/plain": [
       "<AxesSubplot:xlabel='moral', ylabel='coef'>"
      ]
     },
     "execution_count": 26,
     "metadata": {},
     "output_type": "execute_result"
    },
    {
     "data": {
      "image/png": "[encoded data removed]",
      "text/plain": [
       "<Figure size 432x288 with 1 Axes>"
      ]
     },
     "metadata": {
      "needs_background": "light"
     },
     "output_type": "display_data"
    }
   ],
   "source": [
    "inte_df = coef_df[coef_df[\"bias/inte\"] == \"inte\"]\n",
    "sns.pointplot(data=inte_df, x=\"moral\", y=\"coef\", hue=\"handle\")"
   ]
  },
  {
   "cell_type": "code",
   "execution_count": null,
   "metadata": {},
   "outputs": [],
   "source": [
    "# pairplot on traindata: https://scikit-learn.org/stable/auto_examples/inspection/plot_linear_model_coefficient_interpretation.html\n",
    "dataset = labelled_tweets[[y_label] + moral_cols].copy()\n",
    "dataset  # output clear for privacy"
   ]
  },
  {
   "cell_type": "code",
   "execution_count": 43,
   "metadata": {},
   "outputs": [],
   "source": [
    "ds = dataset.sample(10_000)"
   ]
  },
  {
   "cell_type": "code",
   "execution_count": null,
   "metadata": {},
   "outputs": [],
   "source": [
    "%%time\n",
    "g = sns.pairplot(ds, kind=\"reg\", diag_kind=\"kde\", hue=\"party\")\n",
    "g.map_lower(sns.kdeplot, levels=4, color=\".2\")\n",
    "plt.savefig(\"pairplot_us.pdf\", dpi=300)\n",
    "plt.show()"
   ]
  },
  {
   "cell_type": "code",
   "execution_count": null,
   "metadata": {},
   "outputs": [],
   "source": []
  }
 ],
 "metadata": {
  "kernelspec": {
   "display_name": "polarice",
   "language": "python",
   "name": "polarice"
  },
  "language_info": {
   "codemirror_mode": {
    "name": "ipython",
    "version": 3
   },
   "file_extension": ".py",
   "mimetype": "text/x-python",
   "name": "python",
   "nbconvert_exporter": "python",
   "pygments_lexer": "ipython3",
   "version": "3.8.5"
  }
 },
 "nbformat": 4,
 "nbformat_minor": 4
}
