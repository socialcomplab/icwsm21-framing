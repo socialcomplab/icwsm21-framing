{
 "cells": [
  {
   "cell_type": "markdown",
   "metadata": {},
   "source": [
    "# Examples\n",
    "\n",
    "Here we provide a few examples of tweets with certain morals.\n",
    "Due to privacy and ToS reasons, we cannot release real example, but created artificial one's inspired by tweets (i.e., altered tweets) in the dataset."
   ]
  },
  {
   "cell_type": "code",
   "execution_count": 1,
   "metadata": {},
   "outputs": [
    {
     "data": {
      "text/plain": [
       "({'care/harm': <__main__.FrameAxis at 0x7f50c44e0d00>,\n",
       "  'fairness/cheating': <__main__.FrameAxis at 0x7f50c44e0eb0>,\n",
       "  'loyalty/betrayal': <__main__.FrameAxis at 0x7f50c44e0f40>,\n",
       "  'authority/subversion': <__main__.FrameAxis at 0x7f50c44e0c70>,\n",
       "  'sanctity/degradation': <__main__.FrameAxis at 0x7f50c44d3d90>},\n",
       " {'care/harm': <__main__.FrameAxis at 0x7f50c44e0dc0>,\n",
       "  'fairness/cheating': <__main__.FrameAxis at 0x7f5099e85f40>,\n",
       "  'loyalty/betrayal': <__main__.FrameAxis at 0x7f509637bbb0>,\n",
       "  'authority/subversion': <__main__.FrameAxis at 0x7f509637e220>,\n",
       "  'sanctity/degradation': <__main__.FrameAxis at 0x7f5095f14580>})"
      ]
     },
     "execution_count": 1,
     "metadata": {},
     "output_type": "execute_result"
    }
   ],
   "source": [
    "%run frame_axis.py\n",
    "fs_en = FrameSystem.load(\"moral.pkl\")\n",
    "fs_de = FrameSystem.load(\"moral_de.pkl\")\n",
    "fs_en.frame_axes, fs_de.frame_axes"
   ]
  },
  {
   "cell_type": "code",
   "execution_count": 2,
   "metadata": {},
   "outputs": [],
   "source": [
    "from gensim.models import KeyedVectors\n",
    "model_en = KeyedVectors.load_word2vec_format(\"cc.en.300.vec.gz\", binary=False, limit=100_000)\n",
    "model_de = KeyedVectors.load_word2vec_format(\"cc.de.300.vec.gz\", binary=False, limit=100_000)"
   ]
  },
  {
   "cell_type": "code",
   "execution_count": 3,
   "metadata": {},
   "outputs": [],
   "source": [
    "examples_de = [\n",
    "    \"es benötigt eine sanierung des corona gesetzes\",\n",
    "    \"diese #CoronaWarnApp ist sinnlos\",\n",
    "    \"sorgenfrei durch corona\",\n",
    "]"
   ]
  },
  {
   "cell_type": "code",
   "execution_count": 4,
   "metadata": {},
   "outputs": [
    {
     "name": "stdout",
     "output_type": "stream",
     "text": [
      "es benötigt eine sanierung des corona gesetzes: [-0.0008673416450619698, -0.02777366978781564, -0.012838505208492279, 0.021210361804280962, -0.01650430049215044]\n",
      "diese #CoronaWarnApp ist sinnlos: [-0.018679862841963768, -0.03813381493091583, -0.009032895788550377, 0.00263044610619545, -0.02897600457072258]\n",
      "sorgenfrei durch corona: [0.000455038466801246, -0.0029414196809132895, -0.0060966772337754565, -0.007794412473837535, 0.012350415190060934]\n"
     ]
    }
   ],
   "source": [
    "for example_de in examples_de:\n",
    "    biases = []\n",
    "    for axis_name in fs_de.frame_axes.keys():\n",
    "        bias = compute_bias(example_de, fs_de.frame_axes[axis_name].axis, model_de)\n",
    "        biases.append(bias)\n",
    "    print(f\"{example_de}: {biases}\")"
   ]
  },
  {
   "cell_type": "code",
   "execution_count": 5,
   "metadata": {},
   "outputs": [],
   "source": [
    "examples_en = [\n",
    "    \"it is a priority to increase the number of healthcare providers\",\n",
    "    \"the stories of victims of terrible crimes should not be forgotten\",\n",
    "    \"your statement is ignorant and despicable low\",\n",
    "    \"this comment is spiteful\",\n",
    "]"
   ]
  },
  {
   "cell_type": "code",
   "execution_count": 6,
   "metadata": {},
   "outputs": [
    {
     "name": "stdout",
     "output_type": "stream",
     "text": [
      "it is a priority to increase the number of healthcare providers: [-0.019698671319267967, -0.009603444825519215, -0.01689994606104764, -0.01819495450366627, -0.0022852552885358982]\n",
      "the stories of victims of terrible crimes should not be forgotten: [-0.031446941874243996, -0.01884052021936937, -0.03202694925394925, -0.03545958616516807, -0.017217745835130863]\n",
      "your statement is ignorant and despicable low: [0.0015903767198324203, -0.008987109575952803, -0.016886435449123383, 0.0008569583296775818, -0.004357275153909411]\n",
      "this comment is spiteful: [0.02686448208987713, -0.0018607443198561668, 0.015582508407533169, 0.001724855974316597, -0.007111360318958759]\n"
     ]
    }
   ],
   "source": [
    "for example_en in examples_en:\n",
    "    biases = []\n",
    "    for axis_name in fs_en.frame_axes.keys():\n",
    "        bias = compute_bias(example_en, fs_en.frame_axes[axis_name].axis, model_en)\n",
    "        biases.append(bias)\n",
    "    print(f\"{example_en}: {biases}\")"
   ]
  },
  {
   "cell_type": "markdown",
   "metadata": {},
   "source": [
    "Observation for German:\n",
    "\n",
    "The first sentence is an example of high authority due to focus on law (although it wants to change it).\n",
    "The second sentence does not see the benefit of the corona app, and thus might outline why caring for others is less important.\n",
    "The third lies in between and is somewhat ambigous.\n",
    "\n",
    "Observation for English:\n",
    "\n",
    "The first sentence is suggests that not enough care is given.\n",
    "The second sentence outlines the unfairness of crime victims, also emphasizes the degradation.\n",
    "The third and fourth refer to other statements and express their disgust towards them."
   ]
  },
  {
   "cell_type": "markdown",
   "metadata": {},
   "source": [
    "### Remarks\n",
    "\n",
    "This is just a showcase, for the real implementation (e.g., including preprocessing) refer to the other notebooks. \n",
    "\n",
    "Note that:\n",
    "- biases are very small unscale\n",
    "- some biases seemingly point in the wrong direction, as whole topics themselves can be biased (i.e., baseline bias)\n",
    "- thus only the combination of bias and intensity is beneficial\n",
    "- still, here we only report biases, as intensities would require a reference corpus\n",
    "- while we see that the approach works good for certain examples, it does less so on others, that is why it is important to consider the corpus as a whole\n",
    "- also, as reported in the paper, for some words it is not clear to which pole they belong (i.e., words such as wounds)\n",
    "\n",
    "Although, none of those tweets is real, all are an adapted form of real tweets (thus not completely artificial)."
   ]
  },
  {
   "cell_type": "code",
   "execution_count": null,
   "metadata": {},
   "outputs": [],
   "source": []
  },
  {
   "cell_type": "raw",
   "metadata": {},
   "source": [
    "# Code to get the extreme bias sentences in other scripts\n",
    "\n",
    "for bias in [\"care_bias\", \"fair_bias\", \"auth_bias\", \"sanc_bias\", \"loya_bias\"]:\n",
    "    min_text = trans_df.iloc[trans_df[bias].argmin()][\"full_text\"]\n",
    "    min_affil = trans_df.iloc[trans_df[bias].argmin()][\"party\"]\n",
    "    print(f\"Min {bias} by {min_affil}: {min_text}\")\n",
    "    \n",
    "    max_text = trans_df.iloc[trans_df[bias].argmax()][\"full_text\"]\n",
    "    max_affil = trans_df.iloc[trans_df[bias].argmax()][\"party\"]\n",
    "    print(f\"Max {bias} by {max_affil}: {max_text}\")\n",
    "    \n",
    "for bias in [\"care_bias\", \"fair_bias\", \"auth_bias\", \"sanc_bias\", \"loya_bias\"]:\n",
    "    for party in [\"D\", \"R\"]:\n",
    "        party_df = trans_df[trans_df[\"party\"] == party]\n",
    "        \n",
    "        min_text = party_df.iloc[party_df[bias].argmin()][\"full_text\"]\n",
    "        min_affil = party_df.iloc[party_df[bias].argmin()][\"party\"]\n",
    "        print(f\"Min {bias} by {party}: {min_text}\")\n",
    "\n",
    "        max_text = party_df.iloc[party_df[bias].argmax()][\"full_text\"]\n",
    "        max_affil = party_df.iloc[party_df[bias].argmax()][\"party\"]\n",
    "        print(f\"Max {bias} by {party}: {max_text}\")"
   ]
  },
  {
   "cell_type": "code",
   "execution_count": null,
   "metadata": {},
   "outputs": [],
   "source": []
  }
 ],
 "metadata": {
  "kernelspec": {
   "display_name": "polarice",
   "language": "python",
   "name": "polarice"
  },
  "language_info": {
   "codemirror_mode": {
    "name": "ipython",
    "version": 3
   },
   "file_extension": ".py",
   "mimetype": "text/x-python",
   "name": "python",
   "nbconvert_exporter": "python",
   "pygments_lexer": "ipython3",
   "version": "3.8.5"
  }
 },
 "nbformat": 4,
 "nbformat_minor": 4
}
